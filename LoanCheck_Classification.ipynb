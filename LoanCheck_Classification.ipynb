{
 "cells": [
  {
   "cell_type": "code",
   "execution_count": null,
   "metadata": {},
   "outputs": [],
   "source": [
    "import numpy as np\n",
    "import pandas as pd\n",
    "import matplotlib.pyplot as plt\n",
    "import seaborn as sns\n",
    "import warnings\n",
    "warnings.filterwarnings(\"ignore\")\n",
    "\n",
    "# https://towardsdatascience.com/financial-data-analysis-bf4b5e78c45c\n",
    "# https://towardsdatascience.com/financial-data-analysis-51e7275d0ae"
   ]
  },
  {
   "cell_type": "code",
   "execution_count": null,
   "metadata": {},
   "outputs": [],
   "source": [
    "df1 = pd.read_csv('LoanStats_2017Q1.csv', skiprows=[0])\n",
    "df2 = pd.read_csv('LoanStats_2017Q2.csv', skiprows=[0])\n",
    "df3 = pd.read_csv('LoanStats_2017Q3.csv', skiprows=[0])\n",
    "df4 = pd.read_csv('LoanStats_2014.csv', skiprows=[0])\n",
    "df5 = pd.read_csv('LoanStats_2015.csv', skiprows=[0])"
   ]
  },
  {
   "cell_type": "markdown",
   "metadata": {},
   "source": [
    "Find column columns"
   ]
  },
  {
   "cell_type": "code",
   "execution_count": null,
   "metadata": {},
   "outputs": [],
   "source": [
    "\n",
    "columns = np.dstack((list(df1.columns), list(df2.columns), list(df3.columns), list(df4.columns), list(df5.columns)))\n",
    "coldf = pd.DataFrame(columns[0])"
   ]
  },
  {
   "cell_type": "code",
   "execution_count": null,
   "metadata": {},
   "outputs": [],
   "source": [
    "coldf.head()"
   ]
  },
  {
   "cell_type": "code",
   "execution_count": null,
   "metadata": {},
   "outputs": [],
   "source": [
    "df = pd.concat([df1, df2, df3, df4, df5])\n",
    "df.shape"
   ]
  },
  {
   "cell_type": "code",
   "execution_count": null,
   "metadata": {},
   "outputs": [],
   "source": [
    "print(list(df.columns))"
   ]
  },
  {
   "cell_type": "code",
   "execution_count": null,
   "metadata": {},
   "outputs": [],
   "source": [
    "df.loan_status.value_counts()"
   ]
  },
  {
   "cell_type": "code",
   "execution_count": null,
   "metadata": {},
   "outputs": [],
   "source": [
    "# only select wbere status is fully paid and charged off\n",
    "df = df.loc[(df['loan_status'].isin(['Fully Paid', 'Charged Off']))]\n",
    "df.shape\n"
   ]
  },
  {
   "cell_type": "code",
   "execution_count": null,
   "metadata": {},
   "outputs": [],
   "source": [
    "#  remove record with 90% missing value\n",
    "\n",
    "missing_df = df.isnull().sum(axis = 0).sort_values().to_frame('missing_value').reset_index()\n",
    "miss_4000 = list(missing_df[missing_df.missing_value >= 400000]['index'])\n",
    "print(len(miss_4000))\n",
    "df.drop(miss_4000, axis = 1, inplace = True)"
   ]
  },
  {
   "cell_type": "code",
   "execution_count": null,
   "metadata": {},
   "outputs": [],
   "source": [
    "# 53 attributes has been removed \n",
    "df.shape"
   ]
  },
  {
   "cell_type": "code",
   "execution_count": null,
   "metadata": {},
   "outputs": [],
   "source": [
    "#  remove constant value columns\n",
    "def find_constant_features(dataFrame):\n",
    "    const_features = []\n",
    "    for column in list(dataFrame.columns):\n",
    "        if dataFrame[column].unique().size < 2:\n",
    "            const_features.append(column)\n",
    "    return const_features\n",
    "const_features = find_constant_features(df)\n",
    "print(const_features)"
   ]
  },
  {
   "cell_type": "code",
   "execution_count": null,
   "metadata": {},
   "outputs": [],
   "source": [
    "df.drop(const_features, axis = 1, inplace = True)"
   ]
  },
  {
   "cell_type": "code",
   "execution_count": null,
   "metadata": {},
   "outputs": [],
   "source": [
    "df.shape"
   ]
  },
  {
   "cell_type": "code",
   "execution_count": null,
   "metadata": {},
   "outputs": [],
   "source": [
    "# Remove duplicate features ..columsn  having same values\n",
    "def duplicate_columns(frame):\n",
    "    groups = frame.columns.to_series().groupby(frame.dtypes).groups\n",
    "    dups = []\n",
    "    for t, v in groups.items():\n",
    "        cs = frame[v].columns\n",
    "        vs = frame[v]\n",
    "        lcs = len(cs)\n",
    "        for i in range(lcs):\n",
    "            ia = vs.iloc[:,i].values\n",
    "            for j in range(i+1, lcs):\n",
    "                ja = vs.iloc[:,j].values\n",
    "                if np.array_equal(ia, ja):\n",
    "                    dups.append(cs[i])\n",
    "                    break\n",
    "        return dups\n",
    "duplicate_cols = duplicate_columns(df)\n",
    "print(duplicate_cols)"
   ]
  },
  {
   "cell_type": "code",
   "execution_count": null,
   "metadata": {},
   "outputs": [],
   "source": [
    "#  df.drop(duplicate_cols, axis = 1, inplace = True)\n",
    "df.shape"
   ]
  },
  {
   "cell_type": "code",
   "execution_count": null,
   "metadata": {},
   "outputs": [],
   "source": [
    "\n",
    "# drop duplciate rows\n",
    "df.drop_duplicates(inplace= True)\n"
   ]
  },
  {
   "cell_type": "code",
   "execution_count": null,
   "metadata": {},
   "outputs": [],
   "source": [
    "df.shape"
   ]
  },
  {
   "cell_type": "code",
   "execution_count": null,
   "metadata": {},
   "outputs": [],
   "source": [
    "def plot_feature(col_name, isContinuous):\n",
    "    \"\"\"\n",
    "    Visualize a variable with and without faceting on the loan status.\n",
    "    - col_name is the variable name in the dataframe\n",
    "    - full_name is the full variable name\n",
    "    - continuous is True if the variable is continuous, False otherwise\n",
    "    \"\"\"\n",
    "    f, (ax1, ax2) = plt.subplots(nrows=1, ncols=2, figsize=(12,3), dpi=90)\n",
    "    \n",
    "    # Plot without loan status\n",
    "    if isContinuous:\n",
    "        sns.distplot(df.loc[df[col_name].notnull(), col_name], kde=False, ax=ax1)\n",
    "    else:\n",
    "        sns.countplot(df[col_name], order=sorted(df[col_name].unique()), color='#5975A4', saturation=1, ax=ax1)\n",
    "    ax1.set_xlabel(col_name)\n",
    "    ax1.set_ylabel('Count')\n",
    "    ax1.set_title(col_name)\n",
    "    plt.xticks(rotation = 90)\n",
    "# Plot with loan status\n",
    "    if isContinuous:\n",
    "        sns.boxplot(x=col_name, y='loan_status', data=df, ax=ax2)\n",
    "        ax2.set_ylabel('')\n",
    "        ax2.set_title(col_name + ' by Loan Status')\n",
    "    else:\n",
    "        data = df.groupby(col_name)['loan_status'].value_counts(normalize=True).to_frame('proportion').reset_index()        \n",
    "        sns.barplot(x = col_name, y = 'proportion', hue= \"loan_status\", data = data, saturation=1, ax=ax2)\n",
    "        ax2.set_ylabel('Loan fraction')\n",
    "        ax2.set_title('Loan status')\n",
    "        plt.xticks(rotation = 90)\n",
    "    ax2.set_xlabel(col_name)\n",
    "    \n",
    "    plt.tight_layout()\n"
   ]
  },
  {
   "cell_type": "code",
   "execution_count": null,
   "metadata": {},
   "outputs": [],
   "source": [
    "df.iloc[0:5, 0: 10]"
   ]
  },
  {
   "cell_type": "code",
   "execution_count": null,
   "metadata": {},
   "outputs": [],
   "source": [
    "len(df.loan_amnt.value_counts())\n",
    "plot_feature('loan_amnt', True)"
   ]
  },
  {
   "cell_type": "code",
   "execution_count": null,
   "metadata": {},
   "outputs": [],
   "source": [
    "plot_feature('term', False)"
   ]
  },
  {
   "cell_type": "code",
   "execution_count": null,
   "metadata": {},
   "outputs": [],
   "source": [
    "# plot_feature('int_rate', True)"
   ]
  },
  {
   "cell_type": "code",
   "execution_count": null,
   "metadata": {},
   "outputs": [],
   "source": [
    "# plot_feature('grade', False)\n",
    "# plot_feature('sub_grade', False)"
   ]
  },
  {
   "cell_type": "code",
   "execution_count": null,
   "metadata": {},
   "outputs": [],
   "source": [
    "len(df.emp_title.value_counts())\n",
    "# 128310\n",
    "# It looks like emp_title has lots of unique value, which may not strongly be associated with predicted loan_status. \n",
    "# Therefore, I delete the feature.\n",
    "features_to_be_removed =[]\n",
    "features_to_be_removed.extend(['emp_title', 'id'])"
   ]
  },
  {
   "cell_type": "code",
   "execution_count": null,
   "metadata": {},
   "outputs": [],
   "source": [
    "df.iloc[0:5, 6: 20]\n",
    "df.emp_length.value_counts()\n",
    "df.emp_length.fillna(value=0,inplace=True)\n",
    "df['emp_length'].replace(to_replace='[^0-9]+', value='', inplace=True, regex=True)\n",
    "df['emp_length'] = df['emp_length'].astype(int)"
   ]
  },
  {
   "cell_type": "code",
   "execution_count": null,
   "metadata": {},
   "outputs": [],
   "source": [
    "plot_feature('emp_length', False)"
   ]
  },
  {
   "cell_type": "code",
   "execution_count": null,
   "metadata": {},
   "outputs": [],
   "source": [
    "plot_feature('home_ownership', False)"
   ]
  },
  {
   "cell_type": "code",
   "execution_count": null,
   "metadata": {},
   "outputs": [],
   "source": [
    "df.issue_d.value_counts()"
   ]
  },
  {
   "cell_type": "code",
   "execution_count": null,
   "metadata": {},
   "outputs": [],
   "source": [
    "# convert issue_d to month\n",
    "df['issue_month'] = pd.Series(df.issue_d).str.replace(r'-\\d+', '')\n",
    "plot_feature('issue_month', False)"
   ]
  },
  {
   "cell_type": "code",
   "execution_count": null,
   "metadata": {},
   "outputs": [],
   "source": [
    "df.iloc[0:5, 6: 20]\n",
    "features_to_be_removed.extend([ 'url' ,  'title' , 'zip_code'])"
   ]
  },
  {
   "cell_type": "code",
   "execution_count": null,
   "metadata": {},
   "outputs": [],
   "source": [
    "df.iloc[0:5, 6: 20]"
   ]
  },
  {
   "cell_type": "code",
   "execution_count": null,
   "metadata": {},
   "outputs": [],
   "source": [
    "features_to_be_removed.extend(['issue_d', 'mths_since_last_delinq', \n",
    "                               'mths_since_last_record', 'inq_last_6mths', \n",
    "                               'mths_since_last_delinq', 'mths_since_last_record'])"
   ]
  },
  {
   "cell_type": "code",
   "execution_count": null,
   "metadata": {},
   "outputs": [],
   "source": [
    "features_to_be_removed.extend(['total_pymnt', 'total_pymnt_inv', 'total_rec_prncp', \n",
    "                               'total_rec_int', 'total_rec_late_fee'])"
   ]
  },
  {
   "cell_type": "code",
   "execution_count": null,
   "metadata": {},
   "outputs": [],
   "source": [
    "features_to_be_removed.extend(['recoveries', 'collection_recovery_fee', 'last_pymnt_d', \n",
    " 'last_pymnt_amnt', 'last_credit_pull_d', 'last_fico_range_high', \n",
    "                               'last_fico_range_low', 'collections_12_mths_ex_med', 'mths_since_last_major_derog'])\n"
   ]
  },
  {
   "cell_type": "code",
   "execution_count": null,
   "metadata": {},
   "outputs": [],
   "source": [
    "features_to_be_removed.extend(['mo_sin_old_il_acct', 'mo_sin_old_rev_tl_op', \n",
    "                               'mo_sin_rcnt_rev_tl_op', 'mo_sin_rcnt_tl', \n",
    "                               'mths_since_recent_bc', 'mths_since_recent_bc_dlq', \n",
    "                               'mths_since_recent_inq', 'mths_since_recent_revol_delinq', \n",
    "                               'num_accts_ever_120_pd'])"
   ]
  },
  {
   "cell_type": "code",
   "execution_count": null,
   "metadata": {},
   "outputs": [],
   "source": [
    "\n",
    "features_to_be_removed.extend(['num_actv_bc_tl', 'num_actv_rev_tl', 'num_bc_sats', \n",
    "                               'num_bc_tl', 'num_il_tl', 'num_op_rev_tl', \n",
    "                               'num_rev_accts', 'num_rev_tl_bal_gt_0', \n",
    "                               'num_sats', 'num_tl_120dpd_2m'])"
   ]
  },
  {
   "cell_type": "code",
   "execution_count": null,
   "metadata": {},
   "outputs": [],
   "source": [
    "\n",
    "features_to_be_removed.extend(['num_tl_30dpd', 'num_tl_90g_dpd_24m', 'num_tl_op_past_12m', \n",
    "                               'pct_tl_nvr_dlq', 'percent_bc_gt_75', 'tot_hi_cred_lim', \n",
    "                               'total_bal_ex_mort', 'total_bc_limit'])"
   ]
  },
  {
   "cell_type": "code",
   "execution_count": null,
   "metadata": {},
   "outputs": [],
   "source": [
    "features_to_be_removed.extend(['debt_settlement_flag', 'total_il_high_credit_limit'])"
   ]
  },
  {
   "cell_type": "code",
   "execution_count": null,
   "metadata": {},
   "outputs": [],
   "source": [
    "features_to_be_removed.extend([ 'tot_coll_amt', 'tot_cur_bal', 'total_rev_hi_lim', 'avg_cur_bal', 'bc_open_to_buy', 'bc_util',\n",
    "    'chargeoff_within_12_mths', 'delinq_amnt'])"
   ]
  },
  {
   "cell_type": "code",
   "execution_count": null,
   "metadata": {},
   "outputs": [],
   "source": [
    "features_to_be_removed.extend(['funded_amnt', 'funded_amnt_inv'])"
   ]
  },
  {
   "cell_type": "code",
   "execution_count": null,
   "metadata": {},
   "outputs": [],
   "source": [
    "len(set(features_to_be_removed))\n",
    "print(features_to_be_removed)"
   ]
  },
  {
   "cell_type": "code",
   "execution_count": null,
   "metadata": {},
   "outputs": [],
   "source": [
    "df_selected = df.drop(list(set(features_to_be_removed)), axis = 1)\n",
    "df_selected.shape"
   ]
  },
  {
   "cell_type": "code",
   "execution_count": null,
   "metadata": {},
   "outputs": [],
   "source": [
    "df_dtypes = pd.merge(df_selected.isnull().sum(axis = 0).sort_values().to_frame('missing_value').reset_index(),\n",
    "         df_selected.dtypes.to_frame('feature_type').reset_index(),\n",
    "         on = 'index',\n",
    "         how = 'inner')\n",
    "\n",
    "df_dtypes.sort_values(['missing_value', 'feature_type'])\n"
   ]
  },
  {
   "cell_type": "code",
   "execution_count": null,
   "metadata": {},
   "outputs": [],
   "source": []
  },
  {
   "cell_type": "code",
   "execution_count": null,
   "metadata": {},
   "outputs": [],
   "source": [
    "# Feature encode to categorical value \n",
    "df_selected.purpose = df_selected.purpose.astype(\"category\", categories=np.unique(df_selected.purpose)).cat.codes\n",
    "df_selected.home_ownership = df_selected.home_ownership.astype(\"category\", categories = np.unique(df_selected.home_ownership)).cat.codes\n",
    "df_selected.grade = df_selected.grade.astype(\"category\", categories = np.unique(df_selected.grade)).cat.codes\n",
    "df_selected.sub_grade = df_selected.sub_grade.astype(\"category\", categories = np.unique(df_selected.sub_grade)).cat.codes\n",
    "df_selected.addr_state = df_selected.addr_state.astype(\"category\", categories = np.unique(df_selected.addr_state)).cat.codes\n",
    "\n"
   ]
  },
  {
   "cell_type": "code",
   "execution_count": null,
   "metadata": {},
   "outputs": [],
   "source": [
    "df_selected= df_selected.dropna()\n",
    "df_selected.to_csv('df_selected.csv', index = False)"
   ]
  },
  {
   "cell_type": "code",
   "execution_count": null,
   "metadata": {},
   "outputs": [],
   "source": [
    "import seaborn as sns\n",
    "import pandas as pd\n",
    "from sklearn.utils import shuffle, class_weight\n",
    "from sklearn import preprocessing,  tree, metrics\n",
    "from sklearn.preprocessing import StandardScaler\n",
    "from sklearn.model_selection import train_test_split\n",
    "from sklearn.metrics import accuracy_score, classification_report, confusion_matrix\n",
    "from sklearn.ensemble import RandomForestClassifier\n",
    "import matplotlib.pyplot as plt"
   ]
  },
  {
   "cell_type": "code",
   "execution_count": null,
   "metadata": {},
   "outputs": [],
   "source": [
    "df_selected = pd.read_csv('df_selected.csv')\n",
    "df_selected= df_selected.dropna()"
   ]
  },
  {
   "cell_type": "code",
   "execution_count": null,
   "metadata": {},
   "outputs": [],
   "source": [
    "\n",
    "df_selected.shape"
   ]
  },
  {
   "cell_type": "code",
   "execution_count": null,
   "metadata": {},
   "outputs": [],
   "source": [
    "corr = df_selected.corr()\n",
    "plt.figure(figsize = (10, 8))\n",
    "sns.heatmap(corr)\n",
    "plt.show()"
   ]
  },
  {
   "cell_type": "code",
   "execution_count": null,
   "metadata": {},
   "outputs": [],
   "source": [
    "corr.columns"
   ]
  },
  {
   "cell_type": "code",
   "execution_count": null,
   "metadata": {},
   "outputs": [],
   "source": [
    "df_selected.columns"
   ]
  },
  {
   "cell_type": "code",
   "execution_count": null,
   "metadata": {},
   "outputs": [],
   "source": [
    "\n",
    "\n",
    "feature_cols=['loan_amnt', 'term', 'int_rate', 'installment', 'grade', 'sub_grade',\n",
    "       'emp_length', 'home_ownership', 'annual_inc', 'verification_status',\n",
    "        'purpose', 'addr_state', 'dti', 'delinq_2yrs',\n",
    "       'earliest_cr_line', 'fico_range_low', 'fico_range_high', 'open_acc',\n",
    "       'pub_rec', 'revol_bal', 'revol_util', 'total_acc',\n",
    "       'initial_list_status', 'application_type', 'acc_now_delinq',\n",
    "       'acc_open_past_24mths', 'mort_acc', 'pub_rec_bankruptcies', 'tax_liens',\n",
    "       'disbursement_method', 'issue_month']"
   ]
  },
  {
   "cell_type": "code",
   "execution_count": null,
   "metadata": {},
   "outputs": [],
   "source": [
    "y= df_selected.loan_status\n",
    "X = df_selected.drop(\"loan_status\", axis = 1)\n",
    "X = pd.get_dummies(X)\n"
   ]
  },
  {
   "cell_type": "code",
   "execution_count": null,
   "metadata": {},
   "outputs": [],
   "source": [
    "X_train, X_test, y_train, y_test=train_test_split(X, y, \n",
    "                                                  test_size = 0.05,\n",
    "                                                  random_state = 123)"
   ]
  },
  {
   "cell_type": "code",
   "execution_count": null,
   "metadata": {},
   "outputs": [],
   "source": [
    "clf = RandomForestClassifier(n_estimators=500,criterion = 'entropy', max_depth=5,random_state=123)\n",
    "clf.fit(X_train,y_train)\n"
   ]
  },
  {
   "cell_type": "code",
   "execution_count": null,
   "metadata": {},
   "outputs": [],
   "source": [
    "y_pred = clf.predict(X_test)\n",
    "pred_proba = clf.predict_proba(X_test)"
   ]
  },
  {
   "cell_type": "code",
   "execution_count": null,
   "metadata": {},
   "outputs": [],
   "source": [
    "print(\"Accuracy:\", metrics.accuracy_score(y_test,y_pred))\n"
   ]
  },
  {
   "cell_type": "code",
   "execution_count": null,
   "metadata": {},
   "outputs": [],
   "source": [
    "from sklearn.metrics import confusion_matrix\n",
    "y_true = y_test.tolist()\n",
    "mat = confusion_matrix(y_true,y_pred)\n",
    "sns.heatmap(mat.T, square =True, annot = True, fmt = 'd', cbar= False)\n",
    "plt.xlabel('True data')\n",
    "plt.ylabel('predicted values')"
   ]
  },
  {
   "cell_type": "code",
   "execution_count": null,
   "metadata": {},
   "outputs": [],
   "source": [
    "from sklearn.externals.six import StringIO  \n",
    "from IPython.display import Image  \n",
    "from sklearn.tree import export_graphviz\n",
    "import pydotplus\n",
    "dot_data = StringIO()\n",
    "estimator = clf.estimators_[10]\n",
    "export_graphviz(estimator, out_file=dot_data,  \n",
    "                filled=True, rounded=True,\n",
    "                special_characters=True, feature_names=X_train.columns,class_names = ['no', 'yes'])\n",
    "graph = pydotplus.graph_from_dot_data(dot_data.getvalue())  \n"
   ]
  },
  {
   "cell_type": "code",
   "execution_count": null,
   "metadata": {},
   "outputs": [],
   "source": [
    "Image(graph.create_png())"
   ]
  },
  {
   "cell_type": "code",
   "execution_count": null,
   "metadata": {},
   "outputs": [],
   "source": [
    "feature_importances = pd.Series(clf.feature_importances_, index = X.columns )\n",
    "\n",
    "feature_importances.columns = ['columns','imp']\n",
    "\n",
    "feature_importances = feature_importances.sort_values()\n",
    "feature_importances = feature_importances[lambda x: x>0.01]\n",
    "\n"
   ]
  },
  {
   "cell_type": "code",
   "execution_count": null,
   "metadata": {},
   "outputs": [],
   "source": [
    "\n",
    "feature_importances.plot(kind='barh', figsize = (10,10))\n"
   ]
  },
  {
   "cell_type": "code",
   "execution_count": null,
   "metadata": {},
   "outputs": [],
   "source": []
  }
 ],
 "metadata": {
  "kernelspec": {
   "display_name": "Python 3",
   "language": "python",
   "name": "python3"
  },
  "language_info": {
   "codemirror_mode": {
    "name": "ipython",
    "version": 3
   },
   "file_extension": ".py",
   "mimetype": "text/x-python",
   "name": "python",
   "nbconvert_exporter": "python",
   "pygments_lexer": "ipython3",
   "version": "3.6.5"
  }
 },
 "nbformat": 4,
 "nbformat_minor": 2
}
