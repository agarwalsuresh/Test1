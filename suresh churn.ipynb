{
 "cells": [
  {
   "cell_type": "markdown",
   "metadata": {},
   "source": [
    "# Libraries"
   ]
  },
  {
   "cell_type": "code",
   "execution_count": 1,
   "metadata": {},
   "outputs": [],
   "source": [
    "import pandas as pd\n",
    "\n",
    "# python library (API) or spark\n",
    "import pyspark\n"
   ]
  },
  {
   "cell_type": "markdown",
   "metadata": {},
   "source": [
    "# Initiate Spark Session"
   ]
  },
  {
   "cell_type": "code",
   "execution_count": 2,
   "metadata": {},
   "outputs": [],
   "source": [
    "#  or make a connection with a cluster\n",
    "\n",
    "spark = pyspark.sql.SparkSession.builder.master('local[*]').appName('churn').getOrCreate()\n"
   ]
  },
  {
   "cell_type": "code",
   "execution_count": 3,
   "metadata": {},
   "outputs": [
    {
     "data": {
      "text/html": [
       "\n",
       "            <div>\n",
       "                <p><b>SparkSession - in-memory</b></p>\n",
       "                \n",
       "        <div>\n",
       "            <p><b>SparkContext</b></p>\n",
       "\n",
       "            <p><a href=\"http://10.13.85.75:4040\">Spark UI</a></p>\n",
       "\n",
       "            <dl>\n",
       "              <dt>Version</dt>\n",
       "                <dd><code>v2.4.3</code></dd>\n",
       "              <dt>Master</dt>\n",
       "                <dd><code>local[*]</code></dd>\n",
       "              <dt>AppName</dt>\n",
       "                <dd><code>churn</code></dd>\n",
       "            </dl>\n",
       "        </div>\n",
       "        \n",
       "            </div>\n",
       "        "
      ],
      "text/plain": [
       "<pyspark.sql.session.SparkSession at 0x20cceec59b0>"
      ]
     },
     "execution_count": 3,
     "metadata": {},
     "output_type": "execute_result"
    }
   ],
   "source": [
    "spark"
   ]
  },
  {
   "cell_type": "code",
   "execution_count": 4,
   "metadata": {},
   "outputs": [],
   "source": [
    "# RDD  \n",
    "\n",
    "# Resilient - immutable\n",
    "# Distributed - partitoned\n",
    "# DataSet - it holds data\n"
   ]
  },
  {
   "cell_type": "code",
   "execution_count": 5,
   "metadata": {},
   "outputs": [
    {
     "data": {
      "text/html": [
       "\n",
       "        <div>\n",
       "            <p><b>SparkContext</b></p>\n",
       "\n",
       "            <p><a href=\"http://10.13.85.75:4040\">Spark UI</a></p>\n",
       "\n",
       "            <dl>\n",
       "              <dt>Version</dt>\n",
       "                <dd><code>v2.4.3</code></dd>\n",
       "              <dt>Master</dt>\n",
       "                <dd><code>local[*]</code></dd>\n",
       "              <dt>AppName</dt>\n",
       "                <dd><code>churn</code></dd>\n",
       "            </dl>\n",
       "        </div>\n",
       "        "
      ],
      "text/plain": [
       "<SparkContext master=local[*] appName=churn>"
      ]
     },
     "execution_count": 5,
     "metadata": {},
     "output_type": "execute_result"
    }
   ],
   "source": [
    "sc =  spark.sparkContext\n",
    "sc"
   ]
  },
  {
   "cell_type": "code",
   "execution_count": 6,
   "metadata": {},
   "outputs": [
    {
     "data": {
      "text/plain": [
       "agency_churn.csv MapPartitionsRDD[1] at textFile at <unknown>:0"
      ]
     },
     "execution_count": 6,
     "metadata": {},
     "output_type": "execute_result"
    }
   ],
   "source": [
    "rdd = sc.textFile('agency_churn.csv')\n",
    "rdd"
   ]
  },
  {
   "cell_type": "code",
   "execution_count": 7,
   "metadata": {},
   "outputs": [
    {
     "data": {
      "text/plain": [
       "pyspark.rdd.RDD"
      ]
     },
     "execution_count": 7,
     "metadata": {},
     "output_type": "execute_result"
    }
   ],
   "source": [
    "type(rdd)"
   ]
  },
  {
   "cell_type": "code",
   "execution_count": 8,
   "metadata": {},
   "outputs": [
    {
     "data": {
      "text/plain": [
       "['Names,Age,Total_Purchase,Account_Manager,Years,Onboard_date,Location,Company,Churn',\n",
       " 'Cameron Williams,42,11066.8,0,7.22,2013-08-30 7:00:40,\"10265 Elizabeth Mission Barkerburgh, AK 89518\",Harvey LLC,1']"
      ]
     },
     "execution_count": 8,
     "metadata": {},
     "output_type": "execute_result"
    }
   ],
   "source": [
    "rdd.take(2)"
   ]
  },
  {
   "cell_type": "code",
   "execution_count": 9,
   "metadata": {},
   "outputs": [],
   "source": [
    "# Dataframe - same as RDD(properties) but has column structure(schema)\n",
    "\n",
    "df = spark.read.csv('agency_churn.csv', header = True,inferSchema=True )"
   ]
  },
  {
   "cell_type": "code",
   "execution_count": 10,
   "metadata": {},
   "outputs": [
    {
     "data": {
      "text/plain": [
       "DataFrame[Names: string, Age: int, Total_Purchase: double, Account_Manager: int, Years: double, Onboard_date: timestamp, Location: string, Company: string, Churn: int]"
      ]
     },
     "execution_count": 10,
     "metadata": {},
     "output_type": "execute_result"
    }
   ],
   "source": [
    "df"
   ]
  },
  {
   "cell_type": "code",
   "execution_count": 11,
   "metadata": {},
   "outputs": [
    {
     "data": {
      "text/plain": [
       "['Names',\n",
       " 'Age',\n",
       " 'Total_Purchase',\n",
       " 'Account_Manager',\n",
       " 'Years',\n",
       " 'Onboard_date',\n",
       " 'Location',\n",
       " 'Company',\n",
       " 'Churn']"
      ]
     },
     "execution_count": 11,
     "metadata": {},
     "output_type": "execute_result"
    }
   ],
   "source": [
    "df.columns"
   ]
  },
  {
   "cell_type": "code",
   "execution_count": 12,
   "metadata": {},
   "outputs": [
    {
     "name": "stdout",
     "output_type": "stream",
     "text": [
      "+----------------+---+--------------+---------------+-----+-------------------+--------------------+--------------------+-----+\n",
      "|           Names|Age|Total_Purchase|Account_Manager|Years|       Onboard_date|            Location|             Company|Churn|\n",
      "+----------------+---+--------------+---------------+-----+-------------------+--------------------+--------------------+-----+\n",
      "|Cameron Williams| 42|       11066.8|              0| 7.22|2013-08-30 07:00:40|10265 Elizabeth M...|          Harvey LLC|    1|\n",
      "|   Kevin Mueller| 41|      11916.22|              0|  6.5|2013-08-13 00:38:46|6157 Frank Garden...|          Wilson PLC|    1|\n",
      "|     Eric Lozano| 38|      12884.75|              0| 6.67|2016-06-29 06:20:07|1331 Keith Court ...|Miller, Johnson a...|    1|\n",
      "+----------------+---+--------------+---------------+-----+-------------------+--------------------+--------------------+-----+\n",
      "only showing top 3 rows\n",
      "\n"
     ]
    }
   ],
   "source": [
    "df.show(3)"
   ]
  },
  {
   "cell_type": "code",
   "execution_count": 13,
   "metadata": {},
   "outputs": [
    {
     "name": "stdout",
     "output_type": "stream",
     "text": [
      "root\n",
      " |-- Names: string (nullable = true)\n",
      " |-- Age: integer (nullable = true)\n",
      " |-- Total_Purchase: double (nullable = true)\n",
      " |-- Account_Manager: integer (nullable = true)\n",
      " |-- Years: double (nullable = true)\n",
      " |-- Onboard_date: timestamp (nullable = true)\n",
      " |-- Location: string (nullable = true)\n",
      " |-- Company: string (nullable = true)\n",
      " |-- Churn: integer (nullable = true)\n",
      "\n"
     ]
    }
   ],
   "source": [
    "df.printSchema()"
   ]
  },
  {
   "cell_type": "code",
   "execution_count": 14,
   "metadata": {},
   "outputs": [
    {
     "data": {
      "text/plain": [
       "[('Names', 'string'),\n",
       " ('Age', 'int'),\n",
       " ('Total_Purchase', 'double'),\n",
       " ('Account_Manager', 'int'),\n",
       " ('Years', 'double'),\n",
       " ('Onboard_date', 'timestamp'),\n",
       " ('Location', 'string'),\n",
       " ('Company', 'string'),\n",
       " ('Churn', 'int')]"
      ]
     },
     "execution_count": 14,
     "metadata": {},
     "output_type": "execute_result"
    }
   ],
   "source": [
    "df.dtypes"
   ]
  },
  {
   "cell_type": "markdown",
   "metadata": {},
   "source": [
    "# Find unique values"
   ]
  },
  {
   "cell_type": "code",
   "execution_count": 15,
   "metadata": {},
   "outputs": [
    {
     "name": "stdout",
     "output_type": "stream",
     "text": [
      "+----+--------------+\n",
      "| Age|Total_Purchase|\n",
      "+----+--------------+\n",
      "|  42|       11066.8|\n",
      "|  41|      11916.22|\n",
      "|  38|      12884.75|\n",
      "|  42|       8010.76|\n",
      "|  37|       9191.58|\n",
      "|  48|      10356.02|\n",
      "|null|      11331.58|\n",
      "|  32|       9885.12|\n",
      "|  43|       14062.6|\n",
      "|  40|       8066.94|\n",
      "+----+--------------+\n",
      "only showing top 10 rows\n",
      "\n"
     ]
    }
   ],
   "source": [
    "df.select('Age' , 'Total_Purchase').show(10)"
   ]
  },
  {
   "cell_type": "code",
   "execution_count": 16,
   "metadata": {},
   "outputs": [
    {
     "name": "stdout",
     "output_type": "stream",
     "text": [
      "+---+\n",
      "|Age|\n",
      "+---+\n",
      "| 31|\n",
      "| 65|\n",
      "| 53|\n",
      "| 34|\n",
      "| 28|\n",
      "| 26|\n",
      "| 27|\n",
      "| 44|\n",
      "| 22|\n",
      "| 47|\n",
      "+---+\n",
      "only showing top 10 rows\n",
      "\n"
     ]
    }
   ],
   "source": [
    "df.select('Age'  ).distinct().show(10)"
   ]
  },
  {
   "cell_type": "code",
   "execution_count": 17,
   "metadata": {},
   "outputs": [
    {
     "data": {
      "text/plain": [
       "37"
      ]
     },
     "execution_count": 17,
     "metadata": {},
     "output_type": "execute_result"
    }
   ],
   "source": [
    "# Number of unique\n",
    "\n",
    "df.select('Age'  ).distinct().count()\n"
   ]
  },
  {
   "cell_type": "markdown",
   "metadata": {},
   "source": [
    "# Describe - Sumamry stats"
   ]
  },
  {
   "cell_type": "code",
   "execution_count": 18,
   "metadata": {},
   "outputs": [
    {
     "name": "stdout",
     "output_type": "stream",
     "text": [
      "+-------+-------------+-----------------+------------------+-------------------+-----------------+--------------------+--------------------+-------------------+\n",
      "|summary|        Names|              Age|    Total_Purchase|    Account_Manager|            Years|            Location|             Company|              Churn|\n",
      "+-------+-------------+-----------------+------------------+-------------------+-----------------+--------------------+--------------------+-------------------+\n",
      "|  count|          900|              898|               899|                898|              900|                 900|                 899|                900|\n",
      "|   mean|         null|41.81069042316258|10064.888242491663| 0.4799554565701559| 5.27315555555555|                null|                null|0.16666666666666666|\n",
      "| stddev|         null| 6.13303075073418| 2409.188637458988|0.49987645989755647|1.274449013194616|                null|                null| 0.3728852122772358|\n",
      "|    min|   Aaron King|               22|             100.0|                  0|              1.0|00103 Jeffrey Cre...|     Abbott-Thompson|                  0|\n",
      "|    max|Zachary Walsh|               65|          18026.01|                  1|             9.15|Unit 9800 Box 287...|Zuniga, Clark and...|                  1|\n",
      "+-------+-------------+-----------------+------------------+-------------------+-----------------+--------------------+--------------------+-------------------+\n",
      "\n"
     ]
    }
   ],
   "source": [
    "df.describe().show()"
   ]
  },
  {
   "cell_type": "code",
   "execution_count": 19,
   "metadata": {},
   "outputs": [
    {
     "name": "stdout",
     "output_type": "stream",
     "text": [
      "+-------+-------------+-----------------+------------------+\n",
      "|summary|        Names|              Age|    Total_Purchase|\n",
      "+-------+-------------+-----------------+------------------+\n",
      "|  count|          900|              898|               899|\n",
      "|   mean|         null|41.81069042316258|10064.888242491663|\n",
      "| stddev|         null| 6.13303075073418| 2409.188637458988|\n",
      "|    min|   Aaron King|               22|             100.0|\n",
      "|    max|Zachary Walsh|               65|          18026.01|\n",
      "+-------+-------------+-----------------+------------------+\n",
      "\n"
     ]
    }
   ],
   "source": [
    "df.select('Names', 'Age', 'Total_Purchase').describe().show()"
   ]
  },
  {
   "cell_type": "markdown",
   "metadata": {},
   "source": [
    "## Check the shape"
   ]
  },
  {
   "cell_type": "code",
   "execution_count": 20,
   "metadata": {},
   "outputs": [
    {
     "data": {
      "text/plain": [
       "900"
      ]
     },
     "execution_count": 20,
     "metadata": {},
     "output_type": "execute_result"
    }
   ],
   "source": [
    "# number 0f rows\n",
    "df.count()\n",
    "\n"
   ]
  },
  {
   "cell_type": "code",
   "execution_count": 21,
   "metadata": {},
   "outputs": [
    {
     "data": {
      "text/plain": [
       "9"
      ]
     },
     "execution_count": 21,
     "metadata": {},
     "output_type": "execute_result"
    }
   ],
   "source": [
    "# Number of columns\n",
    "len(df.columns)"
   ]
  },
  {
   "cell_type": "markdown",
   "metadata": {},
   "source": [
    "Subset by row(filtering)"
   ]
  },
  {
   "cell_type": "code",
   "execution_count": 22,
   "metadata": {},
   "outputs": [
    {
     "data": {
      "text/plain": [
       "868"
      ]
     },
     "execution_count": 22,
     "metadata": {},
     "output_type": "execute_result"
    }
   ],
   "source": [
    "df.filter(df['Age'] > 30).count()"
   ]
  },
  {
   "cell_type": "code",
   "execution_count": 23,
   "metadata": {},
   "outputs": [
    {
     "name": "stdout",
     "output_type": "stream",
     "text": [
      "+----------------+---+--------------+---------------+-----+-------------------+--------------------+--------------------+-----+\n",
      "|           Names|Age|Total_Purchase|Account_Manager|Years|       Onboard_date|            Location|             Company|Churn|\n",
      "+----------------+---+--------------+---------------+-----+-------------------+--------------------+--------------------+-----+\n",
      "|Cameron Williams| 42|       11066.8|              0| 7.22|2013-08-30 07:00:40|10265 Elizabeth M...|          Harvey LLC|    1|\n",
      "|   Kevin Mueller| 41|      11916.22|              0|  6.5|2013-08-13 00:38:46|6157 Frank Garden...|          Wilson PLC|    1|\n",
      "|     Eric Lozano| 38|      12884.75|              0| 6.67|2016-06-29 06:20:07|1331 Keith Court ...|Miller, Johnson a...|    1|\n",
      "|   Phillip White| 42|       8010.76|              0| 6.71|2014-04-22 12:43:12|13120 Daniel Moun...|           Smith Inc|    1|\n",
      "|  Cynthia Norton| 37|       9191.58|              0| 5.56|2016-01-19 15:31:15|765 Tricia Row Ka...|          Love-Jones|    1|\n",
      "|Jessica Williams| 48|      10356.02|              0| 5.12|2009-03-03 23:13:37|6187 Olson Mounta...|        Kelly-Warren|    1|\n",
      "|   Zachary Walsh| 32|       9885.12|              1| 6.92|2006-03-09 14:50:20|25271 Roy Express...|          Singh-Cole|    1|\n",
      "|     Ashlee Carr| 43|       14062.6|              1| 5.46|2011-09-29 05:47:23|3725 Caroline Str...|           Lopez PLC|    1|\n",
      "|  Jennifer Lynch| 40|       8066.94|              1| 7.11|2006-03-28 15:42:45|363 Sandra Lodge ...|       Reed-Martinez|    1|\n",
      "|  Bruce Phillips| 45|       8771.02|              1| 6.64|2015-05-28 12:14:03|Unit 1895 Box 094...|    Figueroa-Maynard|    1|\n",
      "+----------------+---+--------------+---------------+-----+-------------------+--------------------+--------------------+-----+\n",
      "only showing top 10 rows\n",
      "\n"
     ]
    }
   ],
   "source": [
    "df.filter(df['Age'] > 30).show(10)"
   ]
  },
  {
   "cell_type": "code",
   "execution_count": 24,
   "metadata": {},
   "outputs": [
    {
     "data": {
      "text/plain": [
       "143"
      ]
     },
     "execution_count": 24,
     "metadata": {},
     "output_type": "execute_result"
    }
   ],
   "source": [
    "df.filter((df['Age'] > 30 ) & (df['churn'] == 1)).count()  \n",
    "# and"
   ]
  },
  {
   "cell_type": "code",
   "execution_count": 25,
   "metadata": {},
   "outputs": [
    {
     "data": {
      "text/plain": [
       "875"
      ]
     },
     "execution_count": 25,
     "metadata": {},
     "output_type": "execute_result"
    }
   ],
   "source": [
    "df.filter((df['Age'] > 30 ) | (df['churn'] == 1)).count()  \n",
    "#or"
   ]
  },
  {
   "cell_type": "code",
   "execution_count": 26,
   "metadata": {},
   "outputs": [
    {
     "name": "stdout",
     "output_type": "stream",
     "text": [
      "+-----------+---+--------------+---------------+-----+-------------------+--------------------+---------------+-----+\n",
      "|      Names|Age|Total_Purchase|Account_Manager|Years|       Onboard_date|            Location|        Company|Churn|\n",
      "+-----------+---+--------------+---------------+-----+-------------------+--------------------+---------------+-----+\n",
      "| Eric Smith| 37|      11416.56|              0| 6.06|2006-04-03 04:29:08|166 Julie Vista A...|  Thomas-Curtis|    0|\n",
      "|Eric Castro| 38|      10770.82|              0| 4.99|2016-06-19 01:23:45|80338 Scott Trail...|Campbell-Willis|    0|\n",
      "|Eric Martin| 44|      14155.97|              1| 6.99|2006-05-31 09:24:41|162 Paul Freeway ...|   Warner-Welch|    0|\n",
      "| Eric Terry| 42|      16371.42|              1| 3.84|2014-12-18 16:51:16|2384 Lucero Traff...|   White-Thomas|    0|\n",
      "+-----------+---+--------------+---------------+-----+-------------------+--------------------+---------------+-----+\n",
      "\n"
     ]
    }
   ],
   "source": [
    "# all eric\n",
    "df.filter((df['Names'].startswith('Eric')  ) & (df['churn'] == 0)).show()  \n"
   ]
  },
  {
   "cell_type": "code",
   "execution_count": 27,
   "metadata": {},
   "outputs": [],
   "source": [
    "# all eric\n",
    "#df.filter((df['Names'].contains('Terry')  ).show()  \n"
   ]
  },
  {
   "cell_type": "code",
   "execution_count": 28,
   "metadata": {},
   "outputs": [
    {
     "data": {
      "text/plain": [
       "2"
      ]
     },
     "execution_count": 28,
     "metadata": {},
     "output_type": "execute_result"
    }
   ],
   "source": [
    "df.filter((df['Age'].isNull() ) & (df['churn'] == 1)).count()  \n",
    "# and\n"
   ]
  },
  {
   "cell_type": "code",
   "execution_count": 29,
   "metadata": {},
   "outputs": [
    {
     "data": {
      "text/plain": [
       "896"
      ]
     },
     "execution_count": 29,
     "metadata": {},
     "output_type": "execute_result"
    }
   ],
   "source": [
    "df.dropna().count()"
   ]
  },
  {
   "cell_type": "code",
   "execution_count": 30,
   "metadata": {},
   "outputs": [],
   "source": [
    "df = df.dropna()  # drop null and assign to the df.. no inpacr attribute"
   ]
  },
  {
   "cell_type": "code",
   "execution_count": 31,
   "metadata": {},
   "outputs": [
    {
     "data": {
      "text/plain": [
       "896"
      ]
     },
     "execution_count": 31,
     "metadata": {},
     "output_type": "execute_result"
    }
   ],
   "source": [
    "df.count()"
   ]
  },
  {
   "cell_type": "code",
   "execution_count": 35,
   "metadata": {},
   "outputs": [
    {
     "name": "stdout",
     "output_type": "stream",
     "text": [
      "+-------------------+---+--------------+---------------+-----+-------------------+--------------------+--------------------+-----+\n",
      "|              Names|Age|Total_Purchase|Account_Manager|Years|       Onboard_date|            Location|             Company|Churn|\n",
      "+-------------------+---+--------------+---------------+-----+-------------------+--------------------+--------------------+-----+\n",
      "|        Troy Oliver| 40|      10041.13|              0| 7.61|2006-07-30 15:27:23|USCGC Blake FPO A...|           Gates Ltd|    1|\n",
      "|   Brittany Jackson| 50|       12682.9|              0| 4.58|2006-09-11 07:07:17|082 Roth Island D...|     Mcdonald-Cooper|    1|\n",
      "|       Jeffrey Hill| 40|        9922.3|              1| 5.07|2006-09-22 20:58:51|97907 Jensen Forg...|Williams, Bautist...|    1|\n",
      "|    Daniel Bartlett| 45|       6749.49|              0| 5.88|2006-08-19 17:13:19|353 Gregory Spur ...|         Owens Group|    1|\n",
      "|     Sarah Holloway| 45|       8429.65|              1|  7.1|2006-08-26 16:40:13|099 Lopez Crescen...|    Harrison-Ferrell|    1|\n",
      "|   Stephen Callahan| 42|       6635.19|              0| 6.68|2006-07-24 18:29:33|USS Booth FPO AP ...|         Shaw-Rivera|    1|\n",
      "|       Seth Griffin| 44|      12328.03|              1|  4.6|2006-08-29 02:24:37|9436 Warner Mill ...|        Williams PLC|    0|\n",
      "|  Kenneth Alexander| 30|       8403.78|              1| 4.13|2006-06-28 09:26:57|032 Jorge Trail A...|          Torres Inc|    0|\n",
      "|      Dennis Morgan| 43|       8042.76|              0| 4.95|2006-04-29 20:25:59|00103 Jeffrey Cre...|Barry, Jordan and...|    0|\n",
      "|        Sean Macias| 47|       11306.1|              0| 6.01|2006-07-02 23:47:33|911 Kent Point An...|       Jimenez Group|    0|\n",
      "|    Samuel Castillo| 47|      10584.71|              0| 6.05|2006-04-14 04:20:32|63139 Kristin Loc...|    Jimenez-Thompson|    0|\n",
      "|    Lawrence Morton| 48|       9706.88|              0| 6.45|2006-08-24 18:32:46|0434 Douglas Ridg...|           Clark LLC|    0|\n",
      "|    Gina Richardson| 33|      13157.08|              1| 5.04|2006-08-14 09:24:11|44577 John Keys R...|          Murphy Inc|    0|\n",
      "|Christina Maldonado| 49|       9940.76|              0| 5.72|2006-08-28 11:16:01|483 Douglas Club ...|Moreno, Green and...|    0|\n",
      "| Elizabeth Chandler| 43|      13116.73|              0| 3.57|2006-04-15 03:59:33|USNS Garcia FPO A...|          Morris Inc|    0|\n",
      "|          Tracy Ray| 34|      10674.92|              1| 3.09|2006-08-15 20:48:58|Unit 3715 Box 115...|            Wise Inc|    0|\n",
      "|          Tony Soto| 35|      11830.36|              1| 4.41|2006-10-01 16:57:42|227 Jennifer Park...|        Nichols-Wade|    0|\n",
      "|         Eric Smith| 37|      11416.56|              0| 6.06|2006-04-03 04:29:08|166 Julie Vista A...|       Thomas-Curtis|    0|\n",
      "|     Deborah Howell| 42|      10583.76|              0| 6.51|2006-08-18 05:47:20|9609 Harper Dale ...|           Ortiz Ltd|    0|\n",
      "|     Timothy Jacobs| 40|      11764.35|              1| 5.54|2006-09-16 05:57:02|835 Potter Field ...|        Lawson-Jones|    0|\n",
      "+-------------------+---+--------------+---------------+-----+-------------------+--------------------+--------------------+-----+\n",
      "only showing top 20 rows\n",
      "\n"
     ]
    }
   ],
   "source": [
    "df.filter(df['Onboard_date'].between('2006-04-03','2006-10-03')).show()"
   ]
  },
  {
   "cell_type": "code",
   "execution_count": 37,
   "metadata": {},
   "outputs": [],
   "source": [
    "# filter using sql\n",
    "df.createOrReplaceTempView('churn_table')"
   ]
  },
  {
   "cell_type": "code",
   "execution_count": 39,
   "metadata": {},
   "outputs": [
    {
     "name": "stdout",
     "output_type": "stream",
     "text": [
      "+----------------+---+--------------+---------------+-----+-------------------+--------------------+--------------------+-----+\n",
      "|           Names|Age|Total_Purchase|Account_Manager|Years|       Onboard_date|            Location|             Company|Churn|\n",
      "+----------------+---+--------------+---------------+-----+-------------------+--------------------+--------------------+-----+\n",
      "|Cameron Williams| 42|       11066.8|              0| 7.22|2013-08-30 07:00:40|10265 Elizabeth M...|          Harvey LLC|    1|\n",
      "|   Kevin Mueller| 41|      11916.22|              0|  6.5|2013-08-13 00:38:46|6157 Frank Garden...|          Wilson PLC|    1|\n",
      "|     Eric Lozano| 38|      12884.75|              0| 6.67|2016-06-29 06:20:07|1331 Keith Court ...|Miller, Johnson a...|    1|\n",
      "+----------------+---+--------------+---------------+-----+-------------------+--------------------+--------------------+-----+\n",
      "\n"
     ]
    }
   ],
   "source": [
    "spark.sql(\"select * from churn_table LIMIT 3\").show()"
   ]
  },
  {
   "cell_type": "markdown",
   "metadata": {},
   "source": [
    "# Group by"
   ]
  },
  {
   "cell_type": "code",
   "execution_count": 41,
   "metadata": {},
   "outputs": [
    {
     "name": "stdout",
     "output_type": "stream",
     "text": [
      "+-----+------------------+-------------------+--------------------+------------------+----------+\n",
      "|Churn|          avg(Age)|avg(Total_Purchase)|avg(Account_Manager)|        avg(Years)|avg(Churn)|\n",
      "+-----+------------------+-------------------+--------------------+------------------+----------+\n",
      "|    1|42.986301369863014| 10202.051575342472|  0.5547945205479452| 5.893698630136986|       1.0|\n",
      "|    0| 41.58133333333333| 10036.952853333332|  0.4653333333333333|5.1510666666666625|       0.0|\n",
      "+-----+------------------+-------------------+--------------------+------------------+----------+\n",
      "\n"
     ]
    }
   ],
   "source": [
    "df.groupBy('Churn').mean().show()"
   ]
  },
  {
   "cell_type": "code",
   "execution_count": 42,
   "metadata": {},
   "outputs": [
    {
     "data": {
      "text/html": [
       "<div>\n",
       "<style scoped>\n",
       "    .dataframe tbody tr th:only-of-type {\n",
       "        vertical-align: middle;\n",
       "    }\n",
       "\n",
       "    .dataframe tbody tr th {\n",
       "        vertical-align: top;\n",
       "    }\n",
       "\n",
       "    .dataframe thead th {\n",
       "        text-align: right;\n",
       "    }\n",
       "</style>\n",
       "<table border=\"1\" class=\"dataframe\">\n",
       "  <thead>\n",
       "    <tr style=\"text-align: right;\">\n",
       "      <th></th>\n",
       "      <th>Churn</th>\n",
       "      <th>avg(Age)</th>\n",
       "      <th>avg(Total_Purchase)</th>\n",
       "      <th>avg(Account_Manager)</th>\n",
       "      <th>avg(Years)</th>\n",
       "      <th>avg(Churn)</th>\n",
       "    </tr>\n",
       "  </thead>\n",
       "  <tbody>\n",
       "    <tr>\n",
       "      <th>0</th>\n",
       "      <td>1</td>\n",
       "      <td>42.986301</td>\n",
       "      <td>10202.051575</td>\n",
       "      <td>0.554795</td>\n",
       "      <td>5.893699</td>\n",
       "      <td>1.0</td>\n",
       "    </tr>\n",
       "    <tr>\n",
       "      <th>1</th>\n",
       "      <td>0</td>\n",
       "      <td>41.581333</td>\n",
       "      <td>10036.952853</td>\n",
       "      <td>0.465333</td>\n",
       "      <td>5.151067</td>\n",
       "      <td>0.0</td>\n",
       "    </tr>\n",
       "  </tbody>\n",
       "</table>\n",
       "</div>"
      ],
      "text/plain": [
       "   Churn   avg(Age)  avg(Total_Purchase)  avg(Account_Manager)  avg(Years)  \\\n",
       "0      1  42.986301         10202.051575              0.554795    5.893699   \n",
       "1      0  41.581333         10036.952853              0.465333    5.151067   \n",
       "\n",
       "   avg(Churn)  \n",
       "0         1.0  \n",
       "1         0.0  "
      ]
     },
     "execution_count": 42,
     "metadata": {},
     "output_type": "execute_result"
    }
   ],
   "source": [
    "df.groupBy('Churn').mean().toPandas()"
   ]
  },
  {
   "cell_type": "markdown",
   "metadata": {},
   "source": [
    "# machine Learning\n",
    "Predict churn"
   ]
  },
  {
   "cell_type": "code",
   "execution_count": 44,
   "metadata": {},
   "outputs": [],
   "source": [
    "# need to combine into 1 feature\n",
    "from pyspark.ml.feature import VectorAssembler"
   ]
  },
  {
   "cell_type": "code",
   "execution_count": 45,
   "metadata": {},
   "outputs": [
    {
     "data": {
      "text/plain": [
       "[('Names', 'string'),\n",
       " ('Age', 'int'),\n",
       " ('Total_Purchase', 'double'),\n",
       " ('Account_Manager', 'int'),\n",
       " ('Years', 'double'),\n",
       " ('Onboard_date', 'timestamp'),\n",
       " ('Location', 'string'),\n",
       " ('Company', 'string'),\n",
       " ('Churn', 'int')]"
      ]
     },
     "execution_count": 45,
     "metadata": {},
     "output_type": "execute_result"
    }
   ],
   "source": [
    "df.dtypes"
   ]
  },
  {
   "cell_type": "code",
   "execution_count": 46,
   "metadata": {},
   "outputs": [],
   "source": [
    "# churn base on numerical feature as one-hot encoding is bit complicated\n",
    "input_columns =['Age', 'Total_Purchase' ,'Account_Manager' , 'Years']"
   ]
  },
  {
   "cell_type": "code",
   "execution_count": 50,
   "metadata": {},
   "outputs": [
    {
     "data": {
      "text/plain": [
       "VectorAssembler_9f09b2c3510f"
      ]
     },
     "execution_count": 50,
     "metadata": {},
     "output_type": "execute_result"
    }
   ],
   "source": [
    "assembler = VectorAssembler(inputCols=input_columns, outputCol = 'features' )\n",
    "assembler"
   ]
  },
  {
   "cell_type": "code",
   "execution_count": 53,
   "metadata": {},
   "outputs": [
    {
     "data": {
      "text/plain": [
       "DataFrame[Names: string, Age: int, Total_Purchase: double, Account_Manager: int, Years: double, Onboard_date: timestamp, Location: string, Company: string, Churn: int, features: vector]"
      ]
     },
     "execution_count": 53,
     "metadata": {},
     "output_type": "execute_result"
    }
   ],
   "source": [
    "output = assembler.transform(df)\n",
    "output"
   ]
  },
  {
   "cell_type": "code",
   "execution_count": 58,
   "metadata": {},
   "outputs": [
    {
     "name": "stdout",
     "output_type": "stream",
     "text": [
      "+--------------------+\n",
      "|            features|\n",
      "+--------------------+\n",
      "|[42.0,11066.8,0.0...|\n",
      "|[41.0,11916.22,0....|\n",
      "|[38.0,12884.75,0....|\n",
      "+--------------------+\n",
      "only showing top 3 rows\n",
      "\n"
     ]
    }
   ],
   "source": [
    "output.select('features').show(3)"
   ]
  },
  {
   "cell_type": "code",
   "execution_count": 59,
   "metadata": {},
   "outputs": [],
   "source": [
    "final_data = output.select('features' ,'Churn')"
   ]
  },
  {
   "cell_type": "code",
   "execution_count": 60,
   "metadata": {},
   "outputs": [
    {
     "name": "stdout",
     "output_type": "stream",
     "text": [
      "+--------------------+-----+\n",
      "|            features|Churn|\n",
      "+--------------------+-----+\n",
      "|[42.0,11066.8,0.0...|    1|\n",
      "|[41.0,11916.22,0....|    1|\n",
      "|[38.0,12884.75,0....|    1|\n",
      "+--------------------+-----+\n",
      "only showing top 3 rows\n",
      "\n"
     ]
    }
   ],
   "source": [
    "final_data.show(3)"
   ]
  },
  {
   "cell_type": "code",
   "execution_count": 61,
   "metadata": {},
   "outputs": [],
   "source": [
    "# Train/Test Split\n",
    "\n",
    "train, test = final_data.randomSplit([0.7,0.3] , seed=123)"
   ]
  },
  {
   "cell_type": "code",
   "execution_count": 62,
   "metadata": {},
   "outputs": [
    {
     "data": {
      "text/plain": [
       "629"
      ]
     },
     "execution_count": 62,
     "metadata": {},
     "output_type": "execute_result"
    }
   ],
   "source": [
    "train.count()"
   ]
  },
  {
   "cell_type": "code",
   "execution_count": 63,
   "metadata": {},
   "outputs": [
    {
     "data": {
      "text/plain": [
       "267"
      ]
     },
     "execution_count": 63,
     "metadata": {},
     "output_type": "execute_result"
    }
   ],
   "source": [
    "test.count()"
   ]
  },
  {
   "cell_type": "markdown",
   "metadata": {},
   "source": [
    "# Modeling - Decision Trees"
   ]
  },
  {
   "cell_type": "code",
   "execution_count": 82,
   "metadata": {},
   "outputs": [],
   "source": [
    "# import ML algorithms\n",
    "\n",
    "from pyspark.ml.classification import DecisionTreeClassifier, RandomForestClassifier"
   ]
  },
  {
   "cell_type": "code",
   "execution_count": 67,
   "metadata": {},
   "outputs": [],
   "source": [
    "tree_model = DecisionTreeClassifier(featuresCol='features',  labelCol= 'Churn')"
   ]
  },
  {
   "cell_type": "code",
   "execution_count": 68,
   "metadata": {},
   "outputs": [],
   "source": [
    "tree_model_fitted = tree_model.fit(train)"
   ]
  },
  {
   "cell_type": "code",
   "execution_count": 69,
   "metadata": {},
   "outputs": [
    {
     "data": {
      "text/plain": [
       "DecisionTreeClassificationModel (uid=DecisionTreeClassifier_aa81569e5c38) of depth 5 with 27 nodes"
      ]
     },
     "execution_count": 69,
     "metadata": {},
     "output_type": "execute_result"
    }
   ],
   "source": [
    "tree_model_fitted"
   ]
  },
  {
   "cell_type": "code",
   "execution_count": 70,
   "metadata": {},
   "outputs": [
    {
     "data": {
      "text/plain": [
       "SparseVector(4, {0: 0.1471, 1: 0.295, 2: 0.0262, 3: 0.5317})"
      ]
     },
     "execution_count": 70,
     "metadata": {},
     "output_type": "execute_result"
    }
   ],
   "source": [
    "tree_model_fitted.featureImportances"
   ]
  },
  {
   "cell_type": "markdown",
   "metadata": {},
   "source": [
    "# Evaluation"
   ]
  },
  {
   "cell_type": "code",
   "execution_count": 71,
   "metadata": {},
   "outputs": [],
   "source": [
    "from pyspark.ml.evaluation import MulticlassClassificationEvaluator"
   ]
  },
  {
   "cell_type": "code",
   "execution_count": 72,
   "metadata": {},
   "outputs": [],
   "source": [
    "# Make prediction\n",
    "predictions_tree = tree_model_fitted.transform(test)"
   ]
  },
  {
   "cell_type": "code",
   "execution_count": 76,
   "metadata": {},
   "outputs": [
    {
     "name": "stdout",
     "output_type": "stream",
     "text": [
      "+--------------------+-----+-------------+--------------------+----------+\n",
      "|            features|Churn|rawPrediction|         probability|prediction|\n",
      "+--------------------+-----+-------------+--------------------+----------+\n",
      "|[25.0,9672.03,0.0...|    0| [134.0,27.0]|[0.83229813664596...|       0.0|\n",
      "|[26.0,8787.39,1.0...|    1| [134.0,27.0]|[0.83229813664596...|       0.0|\n",
      "|[26.0,8939.61,0.0...|    0|    [3.0,0.0]|           [1.0,0.0]|       0.0|\n",
      "+--------------------+-----+-------------+--------------------+----------+\n",
      "only showing top 3 rows\n",
      "\n"
     ]
    }
   ],
   "source": [
    "predictions_tree.show(3)"
   ]
  },
  {
   "cell_type": "code",
   "execution_count": 77,
   "metadata": {},
   "outputs": [],
   "source": [
    "# \n",
    "churn_eval = MulticlassClassificationEvaluator(predictionCol='prediction', labelCol='Churn', metricName='accuracy')"
   ]
  },
  {
   "cell_type": "code",
   "execution_count": 80,
   "metadata": {},
   "outputs": [
    {
     "data": {
      "text/plain": [
       "0.8164794007490637"
      ]
     },
     "execution_count": 80,
     "metadata": {},
     "output_type": "execute_result"
    }
   ],
   "source": [
    "churn_eval.evaluate(predictions_tree)"
   ]
  },
  {
   "cell_type": "code",
   "execution_count": 81,
   "metadata": {},
   "outputs": [
    {
     "data": {
      "text/plain": [
       "0.8164794007490637"
      ]
     },
     "execution_count": 81,
     "metadata": {},
     "output_type": "execute_result"
    }
   ],
   "source": [
    "churn_eval = MulticlassClassificationEvaluator(predictionCol='prediction', labelCol='Churn', metricName='accuracy')\n",
    "churn_eval.evaluate(predictions_tree)"
   ]
  },
  {
   "cell_type": "code",
   "execution_count": 87,
   "metadata": {},
   "outputs": [],
   "source": [
    "rf_model = RandomForestClassifier(featuresCol='features',  labelCol= 'Churn')\n",
    "\n",
    "rf_model_fitted = rf_model.fit(train)\n",
    "\n",
    "\n"
   ]
  },
  {
   "cell_type": "code",
   "execution_count": 88,
   "metadata": {},
   "outputs": [
    {
     "data": {
      "text/plain": [
       "SparseVector(4, {0: 0.2655, 1: 0.2604, 2: 0.0365, 3: 0.4376})"
      ]
     },
     "execution_count": 88,
     "metadata": {},
     "output_type": "execute_result"
    }
   ],
   "source": [
    "\n",
    "rf_model_fitted.featureImportances"
   ]
  },
  {
   "cell_type": "code",
   "execution_count": null,
   "metadata": {},
   "outputs": [],
   "source": []
  }
 ],
 "metadata": {
  "kernelspec": {
   "display_name": "Python 3",
   "language": "python",
   "name": "python3"
  },
  "language_info": {
   "codemirror_mode": {
    "name": "ipython",
    "version": 3
   },
   "file_extension": ".py",
   "mimetype": "text/x-python",
   "name": "python",
   "nbconvert_exporter": "python",
   "pygments_lexer": "ipython3",
   "version": "3.7.1"
  }
 },
 "nbformat": 4,
 "nbformat_minor": 2
}
