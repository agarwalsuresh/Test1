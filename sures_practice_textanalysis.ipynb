{
 "cells": [
  {
   "cell_type": "markdown",
   "metadata": {},
   "source": [
    "text analysis:\n",
    "eliza.. a chat bot\n",
    "twilio autopilot..chatbots\n",
    "\n",
    "Summly..summarizing \n",
    "\n",
    "todays example:\n",
    "gauge public sentiment for a comoany base dn twitter data\n",
    "\n",
    "monkey learn\n",
    "\n",
    "ibm watson\n",
    "\n",
    "twitter developer account\n",
    "developer.twitter.com   register and api key\n",
    "tweepy   to access twitter data\n",
    "\n",
    "http://decd.co/tweets-apple\n",
    "\n",
    "\n",
    "https://www.tutorialspoint.com/python/python_reg_expressions.htm\n"
   ]
  },
  {
   "cell_type": "code",
   "execution_count": 5,
   "metadata": {},
   "outputs": [
    {
     "name": "stderr",
     "output_type": "stream",
     "text": [
      "[nltk_data] Downloading package punkt to\n",
      "[nltk_data]     C:\\Users\\Decoded\\AppData\\Roaming\\nltk_data...\n",
      "[nltk_data]   Unzipping tokenizers\\punkt.zip.\n",
      "[nltk_data] Downloading package stopwords to\n",
      "[nltk_data]     C:\\Users\\Decoded\\AppData\\Roaming\\nltk_data...\n",
      "[nltk_data]   Unzipping corpora\\stopwords.zip.\n",
      "[nltk_data] Downloading package wordnet to\n",
      "[nltk_data]     C:\\Users\\Decoded\\AppData\\Roaming\\nltk_data...\n",
      "[nltk_data]   Unzipping corpora\\wordnet.zip.\n"
     ]
    },
    {
     "data": {
      "text/plain": [
       "True"
      ]
     },
     "execution_count": 5,
     "metadata": {},
     "output_type": "execute_result"
    }
   ],
   "source": [
    "# for data trasnformation and manipulation\n",
    "import  pandas as pd\n",
    "import numpy as np\n",
    "\n",
    "#for string manipulation\n",
    "import re\n",
    "import string\n",
    "\n",
    "\n",
    "# for text preprocessing and analysys\n",
    "\n",
    "import nltk    # natural language toolkit\n",
    "from nltk.tokenize import word_tokenize, sent_tokenize\n",
    "from nltk.corpus import stopwords\n",
    "from nltk.stem import PorterStemmer, WordNetLemmatizer\n",
    "\n",
    "# for sentiments analysis\n",
    "from textblob import TextBlob\n",
    "\n",
    "#import dictionaries\n",
    "\n",
    "nltk.download('punkt')\n",
    "nltk.download('stopwords')\n",
    "nltk.download('wordnet')\n",
    "\n",
    "\n"
   ]
  },
  {
   "cell_type": "code",
   "execution_count": 3,
   "metadata": {},
   "outputs": [],
   "source": [
    "twit=pd.read_csv('apple-tweets - apple-tweets.csv')"
   ]
  },
  {
   "cell_type": "code",
   "execution_count": 6,
   "metadata": {},
   "outputs": [
    {
     "data": {
      "text/html": [
       "<div>\n",
       "<style scoped>\n",
       "    .dataframe tbody tr th:only-of-type {\n",
       "        vertical-align: middle;\n",
       "    }\n",
       "\n",
       "    .dataframe tbody tr th {\n",
       "        vertical-align: top;\n",
       "    }\n",
       "\n",
       "    .dataframe thead th {\n",
       "        text-align: right;\n",
       "    }\n",
       "</style>\n",
       "<table border=\"1\" class=\"dataframe\">\n",
       "  <thead>\n",
       "    <tr style=\"text-align: right;\">\n",
       "      <th></th>\n",
       "      <th>user_id</th>\n",
       "      <th>status_id</th>\n",
       "      <th>created_at</th>\n",
       "      <th>screen_name</th>\n",
       "      <th>text</th>\n",
       "      <th>source</th>\n",
       "      <th>display_text_width</th>\n",
       "      <th>reply_to_status_id</th>\n",
       "      <th>reply_to_user_id</th>\n",
       "      <th>reply_to_screen_name</th>\n",
       "      <th>...</th>\n",
       "      <th>statuses_count</th>\n",
       "      <th>favourites_count</th>\n",
       "      <th>account_created_at</th>\n",
       "      <th>verified</th>\n",
       "      <th>profile_url</th>\n",
       "      <th>profile_expanded_url</th>\n",
       "      <th>account_lang</th>\n",
       "      <th>profile_banner_url</th>\n",
       "      <th>profile_background_url</th>\n",
       "      <th>profile_image_url</th>\n",
       "    </tr>\n",
       "  </thead>\n",
       "  <tbody>\n",
       "    <tr>\n",
       "      <th>0</th>\n",
       "      <td>5746452.0</td>\n",
       "      <td>1.090000e+18</td>\n",
       "      <td>1548799817</td>\n",
       "      <td>waltmossberg</td>\n",
       "      <td>It’s true that @Apple likely overpriced the la...</td>\n",
       "      <td>Twitter for iPad</td>\n",
       "      <td>279</td>\n",
       "      <td>NaN</td>\n",
       "      <td>NaN</td>\n",
       "      <td>NaN</td>\n",
       "      <td>...</td>\n",
       "      <td>21783</td>\n",
       "      <td>31007</td>\n",
       "      <td>1178213411</td>\n",
       "      <td>True</td>\n",
       "      <td>https://t.co/AH9VhHsJmY</td>\n",
       "      <td>http://www.theverge.com/label/walt-mossberg-verge</td>\n",
       "      <td>en</td>\n",
       "      <td>https://pbs.twimg.com/profile_banners/5746452/...</td>\n",
       "      <td>http://abs.twimg.com/images/themes/theme9/bg.gif</td>\n",
       "      <td>http://pbs.twimg.com/profile_images/4637351296...</td>\n",
       "    </tr>\n",
       "    <tr>\n",
       "      <th>1</th>\n",
       "      <td>5746452.0</td>\n",
       "      <td>1.090000e+18</td>\n",
       "      <td>1548800328</td>\n",
       "      <td>waltmossberg</td>\n",
       "      <td>@AaronSuplizio @Apple Yes it is.</td>\n",
       "      <td>Twitter for iPad</td>\n",
       "      <td>10</td>\n",
       "      <td>1.090000e+18</td>\n",
       "      <td>2.365419e+07</td>\n",
       "      <td>AaronSuplizio</td>\n",
       "      <td>...</td>\n",
       "      <td>21783</td>\n",
       "      <td>31007</td>\n",
       "      <td>1178213411</td>\n",
       "      <td>True</td>\n",
       "      <td>https://t.co/AH9VhHsJmY</td>\n",
       "      <td>http://www.theverge.com/label/walt-mossberg-verge</td>\n",
       "      <td>en</td>\n",
       "      <td>https://pbs.twimg.com/profile_banners/5746452/...</td>\n",
       "      <td>http://abs.twimg.com/images/themes/theme9/bg.gif</td>\n",
       "      <td>http://pbs.twimg.com/profile_images/4637351296...</td>\n",
       "    </tr>\n",
       "    <tr>\n",
       "      <th>2</th>\n",
       "      <td>5746452.0</td>\n",
       "      <td>1.090000e+18</td>\n",
       "      <td>1548802301</td>\n",
       "      <td>waltmossberg</td>\n",
       "      <td>@mvigod @Apple As I have said many times here,...</td>\n",
       "      <td>Twitter for iPad</td>\n",
       "      <td>259</td>\n",
       "      <td>1.090000e+18</td>\n",
       "      <td>2.224800e+08</td>\n",
       "      <td>mvigod</td>\n",
       "      <td>...</td>\n",
       "      <td>21783</td>\n",
       "      <td>31007</td>\n",
       "      <td>1178213411</td>\n",
       "      <td>True</td>\n",
       "      <td>https://t.co/AH9VhHsJmY</td>\n",
       "      <td>http://www.theverge.com/label/walt-mossberg-verge</td>\n",
       "      <td>en</td>\n",
       "      <td>https://pbs.twimg.com/profile_banners/5746452/...</td>\n",
       "      <td>http://abs.twimg.com/images/themes/theme9/bg.gif</td>\n",
       "      <td>http://pbs.twimg.com/profile_images/4637351296...</td>\n",
       "    </tr>\n",
       "    <tr>\n",
       "      <th>3</th>\n",
       "      <td>5746452.0</td>\n",
       "      <td>1.090000e+18</td>\n",
       "      <td>1548800242</td>\n",
       "      <td>waltmossberg</td>\n",
       "      <td>I’m not saying that @Apple doesn’t have proble...</td>\n",
       "      <td>Twitter for iPad</td>\n",
       "      <td>270</td>\n",
       "      <td>1.090000e+18</td>\n",
       "      <td>5.746452e+06</td>\n",
       "      <td>waltmossberg</td>\n",
       "      <td>...</td>\n",
       "      <td>21783</td>\n",
       "      <td>31007</td>\n",
       "      <td>1178213411</td>\n",
       "      <td>True</td>\n",
       "      <td>https://t.co/AH9VhHsJmY</td>\n",
       "      <td>http://www.theverge.com/label/walt-mossberg-verge</td>\n",
       "      <td>en</td>\n",
       "      <td>https://pbs.twimg.com/profile_banners/5746452/...</td>\n",
       "      <td>http://abs.twimg.com/images/themes/theme9/bg.gif</td>\n",
       "      <td>http://pbs.twimg.com/profile_images/4637351296...</td>\n",
       "    </tr>\n",
       "    <tr>\n",
       "      <th>4</th>\n",
       "      <td>1175221.0</td>\n",
       "      <td>1.090000e+18</td>\n",
       "      <td>1548737368</td>\n",
       "      <td>digiphile</td>\n",
       "      <td>@DaveLeeBBC @Apple @NYGovCuomo Nor I; saw it g...</td>\n",
       "      <td>Twitter for iPhone</td>\n",
       "      <td>88</td>\n",
       "      <td>1.090000e+18</td>\n",
       "      <td>1.251786e+09</td>\n",
       "      <td>DaveLeeBBC</td>\n",
       "      <td>...</td>\n",
       "      <td>165604</td>\n",
       "      <td>108196</td>\n",
       "      <td>1173899540</td>\n",
       "      <td>True</td>\n",
       "      <td>https://t.co/QWOxhaw2kk</td>\n",
       "      <td>https://digiphile.info/about/</td>\n",
       "      <td>en</td>\n",
       "      <td>https://pbs.twimg.com/profile_banners/1175221/...</td>\n",
       "      <td>http://abs.twimg.com/images/themes/theme15/bg.png</td>\n",
       "      <td>http://pbs.twimg.com/profile_images/1076306605...</td>\n",
       "    </tr>\n",
       "  </tbody>\n",
       "</table>\n",
       "<p>5 rows × 88 columns</p>\n",
       "</div>"
      ],
      "text/plain": [
       "     user_id     status_id  created_at   screen_name  \\\n",
       "0  5746452.0  1.090000e+18  1548799817  waltmossberg   \n",
       "1  5746452.0  1.090000e+18  1548800328  waltmossberg   \n",
       "2  5746452.0  1.090000e+18  1548802301  waltmossberg   \n",
       "3  5746452.0  1.090000e+18  1548800242  waltmossberg   \n",
       "4  1175221.0  1.090000e+18  1548737368     digiphile   \n",
       "\n",
       "                                                text              source  \\\n",
       "0  It’s true that @Apple likely overpriced the la...    Twitter for iPad   \n",
       "1                   @AaronSuplizio @Apple Yes it is.    Twitter for iPad   \n",
       "2  @mvigod @Apple As I have said many times here,...    Twitter for iPad   \n",
       "3  I’m not saying that @Apple doesn’t have proble...    Twitter for iPad   \n",
       "4  @DaveLeeBBC @Apple @NYGovCuomo Nor I; saw it g...  Twitter for iPhone   \n",
       "\n",
       "   display_text_width  reply_to_status_id  reply_to_user_id  \\\n",
       "0                 279                 NaN               NaN   \n",
       "1                  10        1.090000e+18      2.365419e+07   \n",
       "2                 259        1.090000e+18      2.224800e+08   \n",
       "3                 270        1.090000e+18      5.746452e+06   \n",
       "4                  88        1.090000e+18      1.251786e+09   \n",
       "\n",
       "  reply_to_screen_name                        ...                          \\\n",
       "0                  NaN                        ...                           \n",
       "1        AaronSuplizio                        ...                           \n",
       "2               mvigod                        ...                           \n",
       "3         waltmossberg                        ...                           \n",
       "4           DaveLeeBBC                        ...                           \n",
       "\n",
       "   statuses_count  favourites_count  account_created_at  verified  \\\n",
       "0           21783             31007          1178213411      True   \n",
       "1           21783             31007          1178213411      True   \n",
       "2           21783             31007          1178213411      True   \n",
       "3           21783             31007          1178213411      True   \n",
       "4          165604            108196          1173899540      True   \n",
       "\n",
       "               profile_url                               profile_expanded_url  \\\n",
       "0  https://t.co/AH9VhHsJmY  http://www.theverge.com/label/walt-mossberg-verge   \n",
       "1  https://t.co/AH9VhHsJmY  http://www.theverge.com/label/walt-mossberg-verge   \n",
       "2  https://t.co/AH9VhHsJmY  http://www.theverge.com/label/walt-mossberg-verge   \n",
       "3  https://t.co/AH9VhHsJmY  http://www.theverge.com/label/walt-mossberg-verge   \n",
       "4  https://t.co/QWOxhaw2kk                      https://digiphile.info/about/   \n",
       "\n",
       "  account_lang                                 profile_banner_url  \\\n",
       "0           en  https://pbs.twimg.com/profile_banners/5746452/...   \n",
       "1           en  https://pbs.twimg.com/profile_banners/5746452/...   \n",
       "2           en  https://pbs.twimg.com/profile_banners/5746452/...   \n",
       "3           en  https://pbs.twimg.com/profile_banners/5746452/...   \n",
       "4           en  https://pbs.twimg.com/profile_banners/1175221/...   \n",
       "\n",
       "                              profile_background_url  \\\n",
       "0   http://abs.twimg.com/images/themes/theme9/bg.gif   \n",
       "1   http://abs.twimg.com/images/themes/theme9/bg.gif   \n",
       "2   http://abs.twimg.com/images/themes/theme9/bg.gif   \n",
       "3   http://abs.twimg.com/images/themes/theme9/bg.gif   \n",
       "4  http://abs.twimg.com/images/themes/theme15/bg.png   \n",
       "\n",
       "                                   profile_image_url  \n",
       "0  http://pbs.twimg.com/profile_images/4637351296...  \n",
       "1  http://pbs.twimg.com/profile_images/4637351296...  \n",
       "2  http://pbs.twimg.com/profile_images/4637351296...  \n",
       "3  http://pbs.twimg.com/profile_images/4637351296...  \n",
       "4  http://pbs.twimg.com/profile_images/1076306605...  \n",
       "\n",
       "[5 rows x 88 columns]"
      ]
     },
     "execution_count": 6,
     "metadata": {},
     "output_type": "execute_result"
    }
   ],
   "source": [
    "twit.head()"
   ]
  },
  {
   "cell_type": "code",
   "execution_count": 7,
   "metadata": {},
   "outputs": [],
   "source": [
    "tweets = twit['text']"
   ]
  },
  {
   "cell_type": "code",
   "execution_count": 8,
   "metadata": {},
   "outputs": [
    {
     "data": {
      "text/plain": [
       "0    It’s true that @Apple likely overpriced the la...\n",
       "1                     @AaronSuplizio @Apple Yes it is.\n",
       "2    @mvigod @Apple As I have said many times here,...\n",
       "3    I’m not saying that @Apple doesn’t have proble...\n",
       "4    @DaveLeeBBC @Apple @NYGovCuomo Nor I; saw it g...\n",
       "Name: text, dtype: object"
      ]
     },
     "execution_count": 8,
     "metadata": {},
     "output_type": "execute_result"
    }
   ],
   "source": [
    "tweets.head()"
   ]
  },
  {
   "cell_type": "markdown",
   "metadata": {},
   "source": [
    "# data cleaning and preprocessing\n",
    "\n",
    "### transform to document term matrix\n",
    "### spell check and common words cleaning"
   ]
  },
  {
   "cell_type": "code",
   "execution_count": 9,
   "metadata": {},
   "outputs": [],
   "source": [
    "sample = 'This is my first sentence.    MY SECOND SENTENCE!! @Apple you suck.  :)  cows and cars became'"
   ]
  },
  {
   "cell_type": "code",
   "execution_count": 10,
   "metadata": {},
   "outputs": [
    {
     "data": {
      "text/plain": [
       "'This is my first sentence.    MY SECOND SENTENCE!! @Apple you suck.  :)  cows and cars became'"
      ]
     },
     "execution_count": 10,
     "metadata": {},
     "output_type": "execute_result"
    }
   ],
   "source": [
    "sample"
   ]
  },
  {
   "cell_type": "code",
   "execution_count": 11,
   "metadata": {},
   "outputs": [
    {
     "data": {
      "text/plain": [
       "str"
      ]
     },
     "execution_count": 11,
     "metadata": {},
     "output_type": "execute_result"
    }
   ],
   "source": [
    "type(sample)"
   ]
  },
  {
   "cell_type": "code",
   "execution_count": 12,
   "metadata": {},
   "outputs": [
    {
     "data": {
      "text/plain": [
       "'this is my first sentence.    my second sentence!! @apple you suck.  :)  cows and cars became'"
      ]
     },
     "execution_count": 12,
     "metadata": {},
     "output_type": "execute_result"
    }
   ],
   "source": [
    "sample.lower()"
   ]
  },
  {
   "cell_type": "code",
   "execution_count": 18,
   "metadata": {},
   "outputs": [
    {
     "data": {
      "text/plain": [
       "'This is my first sentence. MY SECOND SENTENCE!! @Apple you suck. :) cows and cars became'"
      ]
     },
     "execution_count": 18,
     "metadata": {},
     "output_type": "execute_result"
    }
   ],
   "source": [
    "# regex = regular expression  look for 2 more spaces and replace with one space\n",
    "\n",
    "re.sub('\\s+', ' ' , sample)"
   ]
  },
  {
   "cell_type": "code",
   "execution_count": 38,
   "metadata": {},
   "outputs": [],
   "source": [
    "words=word_tokenize(sample)"
   ]
  },
  {
   "cell_type": "code",
   "execution_count": 20,
   "metadata": {},
   "outputs": [
    {
     "data": {
      "text/plain": [
       "['This is my first sentence.',\n",
       " 'MY SECOND SENTENCE!!',\n",
       " '@Apple you suck.',\n",
       " ':)  cows and cars became']"
      ]
     },
     "execution_count": 20,
     "metadata": {},
     "output_type": "execute_result"
    }
   ],
   "source": [
    "sent_tokenize(sample)"
   ]
  },
  {
   "cell_type": "code",
   "execution_count": 24,
   "metadata": {},
   "outputs": [
    {
     "data": {
      "text/plain": [
       "'@AaronSuplizio @Apple Yes it is.'"
      ]
     },
     "execution_count": 24,
     "metadata": {},
     "output_type": "execute_result"
    }
   ],
   "source": [
    "tweets[1]"
   ]
  },
  {
   "cell_type": "code",
   "execution_count": 25,
   "metadata": {},
   "outputs": [
    {
     "data": {
      "text/plain": [
       "'I’m not saying that @Apple doesn’t have problems and challenges. It does. I’m just saying that some perspective is in order. The Mac alone, if it were a separate company, would be on the Fortune 500. And it has a fraction of iPhone sales and a fraction of the attention.'"
      ]
     },
     "execution_count": 25,
     "metadata": {},
     "output_type": "execute_result"
    }
   ],
   "source": [
    "tweets[3]"
   ]
  },
  {
   "cell_type": "code",
   "execution_count": 26,
   "metadata": {},
   "outputs": [
    {
     "data": {
      "text/plain": [
       "'@DaveLeeBBC @Apple @NYGovCuomo Nor I; saw it go by and then tracked it down to here to confirm: https://t.co/XlXf28WCyL'"
      ]
     },
     "execution_count": 26,
     "metadata": {},
     "output_type": "execute_result"
    }
   ],
   "source": [
    "tweets[4]"
   ]
  },
  {
   "cell_type": "code",
   "execution_count": 27,
   "metadata": {},
   "outputs": [
    {
     "data": {
      "text/plain": [
       "'So: @Apple has now disabled Group #Facetime https://t.co/iFXQStsbQh and, unexpectedly, @NYGovCuomo put out a release urging New Yorkers to disable it until it’s fixed &amp; *explained how*. \\n\\n2019 is both weirder &amp; more mundane than I expected back in 1989. https://t.co/4dYV9rQw5E'"
      ]
     },
     "execution_count": 27,
     "metadata": {},
     "output_type": "execute_result"
    }
   ],
   "source": [
    "tweets[5]"
   ]
  },
  {
   "cell_type": "code",
   "execution_count": 28,
   "metadata": {},
   "outputs": [
    {
     "data": {
      "text/plain": [
       "'I wish @tim_cook &amp; @apple tweeted the statement they have to media: they identified a fix for the problem and will release it in a software update later this week. https://t.co/mZe33hxOVu'"
      ]
     },
     "execution_count": 28,
     "metadata": {},
     "output_type": "execute_result"
    }
   ],
   "source": [
    "tweets[6]"
   ]
  },
  {
   "cell_type": "code",
   "execution_count": 29,
   "metadata": {},
   "outputs": [
    {
     "data": {
      "text/plain": [
       "'Any word on a time to fix, @tim_cook &amp; @apple? https://t.co/dXFiXwhhSM'"
      ]
     },
     "execution_count": 29,
     "metadata": {},
     "output_type": "execute_result"
    }
   ],
   "source": [
    "tweets[7]"
   ]
  },
  {
   "cell_type": "code",
   "execution_count": 30,
   "metadata": {},
   "outputs": [
    {
     "data": {
      "text/plain": [
       "'@DaveLeeBBC @Apple @NYGovCuomo I used to be on it, back when they wanted my opinion (and endorsement) on bills  https://t.co/DLoko7ImEO but no longer.'"
      ]
     },
     "execution_count": 30,
     "metadata": {},
     "output_type": "execute_result"
    }
   ],
   "source": [
    "tweets[8]"
   ]
  },
  {
   "cell_type": "code",
   "execution_count": null,
   "metadata": {},
   "outputs": [],
   "source": []
  },
  {
   "cell_type": "code",
   "execution_count": 33,
   "metadata": {},
   "outputs": [
    {
     "data": {
      "text/plain": [
       "'@DaveLeeBBC @Apple @NYGovCuomo I used to be on it, back when they wanted my opinion (and endorsement) on bills   but no longer.'"
      ]
     },
     "execution_count": 33,
     "metadata": {},
     "output_type": "execute_result"
    }
   ],
   "source": [
    "# replace http link and we dont need it\n",
    "re.sub(\"(s?)(f|ht)tp(s?)://\\\\S+\\\\b\", '' , tweets[8])"
   ]
  },
  {
   "cell_type": "code",
   "execution_count": 41,
   "metadata": {},
   "outputs": [
    {
     "data": {
      "text/plain": [
       "[True,\n",
       " True,\n",
       " True,\n",
       " True,\n",
       " True,\n",
       " False,\n",
       " True,\n",
       " True,\n",
       " True,\n",
       " False,\n",
       " False,\n",
       " False,\n",
       " True,\n",
       " True,\n",
       " True,\n",
       " False,\n",
       " False,\n",
       " False,\n",
       " True,\n",
       " True,\n",
       " True,\n",
       " True]"
      ]
     },
     "execution_count": 41,
     "metadata": {},
     "output_type": "execute_result"
    }
   ],
   "source": [
    "[w.isalpha() for w in words]"
   ]
  },
  {
   "cell_type": "code",
   "execution_count": 39,
   "metadata": {},
   "outputs": [
    {
     "data": {
      "text/plain": [
       "['This',\n",
       " 'is',\n",
       " 'my',\n",
       " 'first',\n",
       " 'sentence',\n",
       " '.',\n",
       " 'MY',\n",
       " 'SECOND',\n",
       " 'SENTENCE',\n",
       " '!',\n",
       " '!',\n",
       " '@',\n",
       " 'Apple',\n",
       " 'you',\n",
       " 'suck',\n",
       " '.',\n",
       " ':',\n",
       " ')',\n",
       " 'cow',\n",
       " 'and',\n",
       " 'car',\n",
       " 'became']"
      ]
     },
     "execution_count": 39,
     "metadata": {},
     "output_type": "execute_result"
    }
   ],
   "source": [
    "[WordNetLemmatizer().lemmatize(w) for w in words]  "
   ]
  },
  {
   "cell_type": "code",
   "execution_count": 40,
   "metadata": {},
   "outputs": [
    {
     "data": {
      "text/plain": [
       "['This',\n",
       " 'be',\n",
       " 'my',\n",
       " 'first',\n",
       " 'sentence',\n",
       " '.',\n",
       " 'MY',\n",
       " 'SECOND',\n",
       " 'SENTENCE',\n",
       " '!',\n",
       " '!',\n",
       " '@',\n",
       " 'Apple',\n",
       " 'you',\n",
       " 'suck',\n",
       " '.',\n",
       " ':',\n",
       " ')',\n",
       " 'cow',\n",
       " 'and',\n",
       " 'cars',\n",
       " 'become']"
      ]
     },
     "execution_count": 40,
     "metadata": {},
     "output_type": "execute_result"
    }
   ],
   "source": [
    "[WordNetLemmatizer().lemmatize(w, pos='v') for w in words]  "
   ]
  },
  {
   "cell_type": "markdown",
   "metadata": {},
   "source": [
    "cleaning function"
   ]
  },
  {
   "cell_type": "code",
   "execution_count": 76,
   "metadata": {},
   "outputs": [],
   "source": [
    "def clean(text):\n",
    "    # change to lower case\n",
    "    text = text.lower()\n",
    "    #remove emojis\n",
    "  #  text= re.sub(':)', 'happy', text)\n",
    "    text= re.sub(\"(s?)(f|ht)tp(s?)://\\\\S+\\\\b\", '' , text)\n",
    "    #remove numbers\n",
    "    # tokenize\n",
    "    words= word_tokenize(text)\n",
    "    # remove non alpohabetical characters\n",
    "    words= [w for w in words if w.isalpha()]  \n",
    "    \n",
    "    # lemmatize\n",
    "    words = [WordNetLemmatizer().lemmatize(w) for w in words]\n",
    "    \n",
    "    # remove stopwords or hiugh frequency words\n",
    "    words = [w for w in words if w not in stopwords.words('english')]\n",
    "    \n",
    "    text = ' '.join(words)\n",
    "    return text\n",
    "    "
   ]
  },
  {
   "cell_type": "code",
   "execution_count": 77,
   "metadata": {},
   "outputs": [
    {
     "data": {
      "text/plain": [
       "'true apple likely overpriced latest iphones mature market especially china therefore overestimated revenue earnings people please remember shortfall meant took billion day instead billion'"
      ]
     },
     "execution_count": 77,
     "metadata": {},
     "output_type": "execute_result"
    }
   ],
   "source": [
    "clean(tweets[0])"
   ]
  },
  {
   "cell_type": "code",
   "execution_count": 58,
   "metadata": {},
   "outputs": [],
   "source": [
    "\n",
    "# apply clean to each tweet\n",
    "tweets = tweets.apply(lambda x: clean(x))"
   ]
  },
  {
   "cell_type": "markdown",
   "metadata": {},
   "source": [
    "# Visualisation\n",
    "decd.co/text-helpers"
   ]
  },
  {
   "cell_type": "code",
   "execution_count": 83,
   "metadata": {},
   "outputs": [
    {
     "name": "stderr",
     "output_type": "stream",
     "text": [
      "[nltk_data] Downloading package punkt to\n",
      "[nltk_data]     C:\\Users\\Decoded\\AppData\\Roaming\\nltk_data...\n",
      "[nltk_data]   Package punkt is already up-to-date!\n",
      "[nltk_data] Downloading package stopwords to\n",
      "[nltk_data]     C:\\Users\\Decoded\\AppData\\Roaming\\nltk_data...\n",
      "[nltk_data]   Package stopwords is already up-to-date!\n",
      "[nltk_data] Downloading package wordnet to\n",
      "[nltk_data]     C:\\Users\\Decoded\\AppData\\Roaming\\nltk_data...\n",
      "[nltk_data]   Package wordnet is already up-to-date!\n"
     ]
    },
    {
     "data": {
      "text/plain": [
       "True"
      ]
     },
     "execution_count": 83,
     "metadata": {},
     "output_type": "execute_result"
    }
   ],
   "source": [
    "# For text pre-processing\n",
    "import nltk\n",
    "from nltk.tokenize import word_tokenize, sent_tokenize\n",
    "from nltk.corpus import stopwords\n",
    "from nltk.stem import PorterStemmer, WordNetLemmatizer\n",
    "from textblob import TextBlob\n",
    "\n",
    "# For extracting features -- i.e. the document-term matrix\n",
    "from sklearn.feature_extraction.text import CountVectorizer\n",
    "\n",
    "import matplotlib.pyplot as plt\n",
    "\n",
    "# Necessary dependencies from NLTK\n",
    "nltk.download('punkt')\n",
    "nltk.download('stopwords')\n",
    "nltk.download('wordnet')"
   ]
  },
  {
   "cell_type": "code",
   "execution_count": 72,
   "metadata": {},
   "outputs": [],
   "source": [
    "# bag of words\n",
    "vector= CountVectorizer(max_features=5000 , min_df= 0.01)\n",
    "\n"
   ]
  },
  {
   "cell_type": "code",
   "execution_count": 73,
   "metadata": {},
   "outputs": [
    {
     "data": {
      "text/plain": [
       "<9991x144 sparse matrix of type '<class 'numpy.int64'>'\n",
       "\twith 44786 stored elements in Compressed Sparse Row format>"
      ]
     },
     "execution_count": 73,
     "metadata": {},
     "output_type": "execute_result"
    }
   ],
   "source": [
    "bag_of_words = vector.fit_transform(tweets)\n",
    "bag_of_words"
   ]
  },
  {
   "cell_type": "code",
   "execution_count": 74,
   "metadata": {},
   "outputs": [
    {
     "data": {
      "text/plain": [
       "['airpods',\n",
       " 'already',\n",
       " 'also',\n",
       " 'always',\n",
       " 'amp',\n",
       " 'android',\n",
       " 'another',\n",
       " 'answer',\n",
       " 'app',\n",
       " 'apple',\n",
       " 'applesupport',\n",
       " 'back',\n",
       " 'battery',\n",
       " 'best',\n",
       " 'better',\n",
       " 'big',\n",
       " 'bug',\n",
       " 'buy',\n",
       " 'ca',\n",
       " 'call',\n",
       " 'camera',\n",
       " 'change',\n",
       " 'come',\n",
       " 'company',\n",
       " 'could',\n",
       " 'customer',\n",
       " 'data',\n",
       " 'day',\n",
       " 'device',\n",
       " 'doe',\n",
       " 'done',\n",
       " 'even',\n",
       " 'ever',\n",
       " 'every',\n",
       " 'facebook',\n",
       " 'facetime',\n",
       " 'feature',\n",
       " 'first',\n",
       " 'fix',\n",
       " 'fuck',\n",
       " 'get',\n",
       " 'getting',\n",
       " 'give',\n",
       " 'glitch',\n",
       " 'go',\n",
       " 'going',\n",
       " 'good',\n",
       " 'google',\n",
       " 'got',\n",
       " 'great',\n",
       " 'group',\n",
       " 'guy',\n",
       " 'ha',\n",
       " 'hear',\n",
       " 'help',\n",
       " 'hey',\n",
       " 'http',\n",
       " 'io',\n",
       " 'ipad',\n",
       " 'iphone',\n",
       " 'iphones',\n",
       " 'issue',\n",
       " 'job',\n",
       " 'keep',\n",
       " 'know',\n",
       " 'last',\n",
       " 'let',\n",
       " 'life',\n",
       " 'like',\n",
       " 'listen',\n",
       " 'lol',\n",
       " 'look',\n",
       " 'love',\n",
       " 'mac',\n",
       " 'made',\n",
       " 'make',\n",
       " 'many',\n",
       " 'microsoft',\n",
       " 'money',\n",
       " 'month',\n",
       " 'much',\n",
       " 'music',\n",
       " 'na',\n",
       " 'need',\n",
       " 'never',\n",
       " 'new',\n",
       " 'next',\n",
       " 'old',\n",
       " 'one',\n",
       " 'pay',\n",
       " 'people',\n",
       " 'phone',\n",
       " 'please',\n",
       " 'price',\n",
       " 'privacy',\n",
       " 'pro',\n",
       " 'problem',\n",
       " 'product',\n",
       " 'really',\n",
       " 'right',\n",
       " 'said',\n",
       " 'sale',\n",
       " 'samsung',\n",
       " 'say',\n",
       " 'screen',\n",
       " 'security',\n",
       " 'see',\n",
       " 'service',\n",
       " 'shit',\n",
       " 'shotoniphone',\n",
       " 'since',\n",
       " 'software',\n",
       " 'someone',\n",
       " 'something',\n",
       " 'still',\n",
       " 'stop',\n",
       " 'store',\n",
       " 'take',\n",
       " 'tech',\n",
       " 'thank',\n",
       " 'thanks',\n",
       " 'thing',\n",
       " 'think',\n",
       " 'time',\n",
       " 'today',\n",
       " 'update',\n",
       " 'use',\n",
       " 'used',\n",
       " 'user',\n",
       " 'using',\n",
       " 'via',\n",
       " 'video',\n",
       " 'wa',\n",
       " 'want',\n",
       " 'watch',\n",
       " 'way',\n",
       " 'week',\n",
       " 'well',\n",
       " 'win',\n",
       " 'without',\n",
       " 'work',\n",
       " 'working',\n",
       " 'would',\n",
       " 'year']"
      ]
     },
     "execution_count": 74,
     "metadata": {},
     "output_type": "execute_result"
    }
   ],
   "source": [
    "vector.get_feature_names()"
   ]
  },
  {
   "cell_type": "code",
   "execution_count": 75,
   "metadata": {},
   "outputs": [
    {
     "data": {
      "text/plain": [
       "[('apple', 11472),\n",
       " ('http', 3499),\n",
       " ('iphone', 1271),\n",
       " ('facetime', 1007),\n",
       " ('phone', 934),\n",
       " ('new', 682),\n",
       " ('like', 629),\n",
       " ('get', 627),\n",
       " ('wa', 578),\n",
       " ('fix', 543),\n",
       " ('bug', 511),\n",
       " ('need', 508),\n",
       " ('applesupport', 501),\n",
       " ('ha', 490),\n",
       " ('one', 481),\n",
       " ('make', 440),\n",
       " ('time', 427),\n",
       " ('amp', 414),\n",
       " ('people', 412),\n",
       " ('would', 393),\n",
       " ('got', 349),\n",
       " ('please', 346),\n",
       " ('shit', 346),\n",
       " ('update', 343),\n",
       " ('app', 334),\n",
       " ('year', 326),\n",
       " ('call', 314),\n",
       " ('even', 313),\n",
       " ('still', 310),\n",
       " ('know', 308),\n",
       " ('work', 301),\n",
       " ('want', 296),\n",
       " ('privacy', 294),\n",
       " ('google', 287),\n",
       " ('really', 286),\n",
       " ('android', 282),\n",
       " ('think', 277),\n",
       " ('use', 273),\n",
       " ('product', 271),\n",
       " ('back', 269),\n",
       " ('good', 268),\n",
       " ('let', 267),\n",
       " ('day', 258),\n",
       " ('user', 255),\n",
       " ('watch', 252),\n",
       " ('go', 251),\n",
       " ('io', 250),\n",
       " ('see', 239),\n",
       " ('going', 237),\n",
       " ('love', 231),\n",
       " ('issue', 230),\n",
       " ('better', 228),\n",
       " ('way', 228),\n",
       " ('company', 226),\n",
       " ('shotoniphone', 226),\n",
       " ('right', 225),\n",
       " ('thing', 224),\n",
       " ('much', 222),\n",
       " ('device', 221),\n",
       " ('could', 219),\n",
       " ('service', 215),\n",
       " ('doe', 210),\n",
       " ('ipad', 205),\n",
       " ('answer', 202),\n",
       " ('price', 201),\n",
       " ('thanks', 200),\n",
       " ('take', 199),\n",
       " ('buy', 199),\n",
       " ('come', 198),\n",
       " ('battery', 190),\n",
       " ('facebook', 184),\n",
       " ('great', 183),\n",
       " ('well', 182),\n",
       " ('say', 177),\n",
       " ('hey', 174),\n",
       " ('feature', 174),\n",
       " ('group', 173),\n",
       " ('store', 170),\n",
       " ('also', 167),\n",
       " ('via', 166),\n",
       " ('without', 166),\n",
       " ('never', 163),\n",
       " ('look', 162),\n",
       " ('every', 160),\n",
       " ('samsung', 159),\n",
       " ('pay', 157),\n",
       " ('hear', 156),\n",
       " ('someone', 154),\n",
       " ('something', 153),\n",
       " ('iphones', 151),\n",
       " ('customer', 151),\n",
       " ('screen', 151),\n",
       " ('next', 150),\n",
       " ('give', 150),\n",
       " ('using', 147),\n",
       " ('lol', 147),\n",
       " ('stop', 147),\n",
       " ('sale', 144),\n",
       " ('best', 144),\n",
       " ('last', 141),\n",
       " ('help', 137),\n",
       " ('week', 136),\n",
       " ('guy', 136),\n",
       " ('tech', 136),\n",
       " ('pro', 135),\n",
       " ('airpods', 133),\n",
       " ('music', 132),\n",
       " ('video', 131),\n",
       " ('first', 130),\n",
       " ('getting', 130),\n",
       " ('security', 128),\n",
       " ('today', 127),\n",
       " ('change', 127),\n",
       " ('problem', 126),\n",
       " ('mac', 126),\n",
       " ('ever', 124),\n",
       " ('camera', 124),\n",
       " ('thank', 123),\n",
       " ('money', 122),\n",
       " ('microsoft', 122),\n",
       " ('fuck', 122),\n",
       " ('keep', 120),\n",
       " ('another', 119),\n",
       " ('software', 118),\n",
       " ('big', 118),\n",
       " ('data', 116),\n",
       " ('listen', 116),\n",
       " ('old', 114),\n",
       " ('na', 113),\n",
       " ('job', 113),\n",
       " ('done', 113),\n",
       " ('many', 112),\n",
       " ('month', 112),\n",
       " ('used', 111),\n",
       " ('since', 111),\n",
       " ('glitch', 111),\n",
       " ('working', 110),\n",
       " ('said', 107),\n",
       " ('win', 107),\n",
       " ('life', 107),\n",
       " ('ca', 107),\n",
       " ('already', 104),\n",
       " ('made', 103),\n",
       " ('always', 103)]"
      ]
     },
     "execution_count": 75,
     "metadata": {},
     "output_type": "execute_result"
    }
   ],
   "source": [
    "sum_words = bag_of_words.sum(axis = 0)\n",
    "\n",
    "words_freq = [(word, sum_words[0, idx]) for word, idx in vector.vocabulary_.items()]\n",
    "\n",
    "words_freq = sorted(words_freq, key = lambda x: x[1], reverse=True)\n",
    "\n",
    "words_freq\n"
   ]
  },
  {
   "cell_type": "code",
   "execution_count": 84,
   "metadata": {},
   "outputs": [
    {
     "name": "stdout",
     "output_type": "stream",
     "text": [
      "http 3499\n",
      "iphone 1271\n",
      "facetime 1007\n",
      "phone 934\n",
      "new 682\n",
      "like 629\n",
      "get 627\n",
      "wa 578\n",
      "fix 543\n",
      "bug 511\n",
      "need 508\n",
      "applesupport 501\n",
      "ha 490\n",
      "one 481\n",
      "make 440\n",
      "time 427\n",
      "amp 414\n",
      "people 412\n",
      "would 393\n",
      "got 349\n",
      "please 346\n",
      "shit 346\n",
      "update 343\n",
      "app 334\n",
      "year 326\n",
      "call 314\n",
      "even 313\n",
      "still 310\n",
      "know 308\n"
     ]
    },
    {
     "ename": "NameError",
     "evalue": "name 'sns' is not defined",
     "output_type": "error",
     "traceback": [
      "\u001b[1;31m---------------------------------------------------------------------------\u001b[0m",
      "\u001b[1;31mNameError\u001b[0m                                 Traceback (most recent call last)",
      "\u001b[1;32m<ipython-input-84-2a2d9f9d8c7f>\u001b[0m in \u001b[0;36m<module>\u001b[1;34m\u001b[0m\n\u001b[0;32m     16\u001b[0m \u001b[0mplt\u001b[0m\u001b[1;33m.\u001b[0m\u001b[0mfigure\u001b[0m\u001b[1;33m(\u001b[0m\u001b[0mfigsize\u001b[0m \u001b[1;33m=\u001b[0m \u001b[1;33m(\u001b[0m\u001b[1;36m10\u001b[0m\u001b[1;33m,\u001b[0m\u001b[1;36m10\u001b[0m\u001b[1;33m)\u001b[0m\u001b[1;33m)\u001b[0m\u001b[1;33m\u001b[0m\u001b[1;33m\u001b[0m\u001b[0m\n\u001b[0;32m     17\u001b[0m \u001b[1;33m\u001b[0m\u001b[0m\n\u001b[1;32m---> 18\u001b[1;33m \u001b[0msns\u001b[0m\u001b[1;33m.\u001b[0m\u001b[0mbarplot\u001b[0m\u001b[1;33m(\u001b[0m\u001b[0mx\u001b[0m \u001b[1;33m=\u001b[0m \u001b[0mcount\u001b[0m\u001b[1;33m,\u001b[0m \u001b[0my\u001b[0m \u001b[1;33m=\u001b[0m \u001b[0mword\u001b[0m\u001b[1;33m)\u001b[0m\u001b[1;33m\u001b[0m\u001b[1;33m\u001b[0m\u001b[0m\n\u001b[0m",
      "\u001b[1;31mNameError\u001b[0m: name 'sns' is not defined"
     ]
    },
    {
     "data": {
      "text/plain": [
       "<Figure size 720x720 with 0 Axes>"
      ]
     },
     "metadata": {},
     "output_type": "display_data"
    }
   ],
   "source": [
    "# ignoring top word (which is \"apple\" in this case)\n",
    "top_words = words_freq[1:30]\n",
    "\n",
    "for word, freq in top_words:\n",
    "    print(word, freq)\n",
    "\n",
    "\n",
    "word = []\n",
    "count = []\n",
    "\n",
    "for i, j in top_words: \n",
    "    word.append(i)\n",
    "    count.append(j)\n",
    "\n",
    "\n",
    "plt.figure(figsize = (10,10))\n",
    "\n",
    "sns.barplot(x = count, y = word)"
   ]
  },
  {
   "cell_type": "code",
   "execution_count": 85,
   "metadata": {},
   "outputs": [
    {
     "ename": "NameError",
     "evalue": "name 'WordCloud' is not defined",
     "output_type": "error",
     "traceback": [
      "\u001b[1;31m---------------------------------------------------------------------------\u001b[0m",
      "\u001b[1;31mNameError\u001b[0m                                 Traceback (most recent call last)",
      "\u001b[1;32m<ipython-input-85-66e8b5130a65>\u001b[0m in \u001b[0;36m<module>\u001b[1;34m\u001b[0m\n\u001b[0;32m      4\u001b[0m     \u001b[0mwords_dict\u001b[0m\u001b[1;33m[\u001b[0m\u001b[0mk\u001b[0m\u001b[1;33m]\u001b[0m \u001b[1;33m=\u001b[0m \u001b[0mint\u001b[0m\u001b[1;33m(\u001b[0m\u001b[0mv\u001b[0m\u001b[1;33m)\u001b[0m\u001b[1;33m\u001b[0m\u001b[1;33m\u001b[0m\u001b[0m\n\u001b[0;32m      5\u001b[0m \u001b[1;33m\u001b[0m\u001b[0m\n\u001b[1;32m----> 6\u001b[1;33m \u001b[0mwordcloud\u001b[0m \u001b[1;33m=\u001b[0m \u001b[0mWordCloud\u001b[0m\u001b[1;33m(\u001b[0m\u001b[0mwidth\u001b[0m\u001b[1;33m=\u001b[0m\u001b[1;36m1000\u001b[0m\u001b[1;33m,\u001b[0m \u001b[0mheight\u001b[0m\u001b[1;33m=\u001b[0m\u001b[1;36m500\u001b[0m\u001b[1;33m,\u001b[0m \u001b[0mbackground_color\u001b[0m\u001b[1;33m=\u001b[0m\u001b[1;34m\"white\"\u001b[0m\u001b[1;33m)\u001b[0m\u001b[1;33m.\u001b[0m\u001b[0mgenerate_from_frequencies\u001b[0m\u001b[1;33m(\u001b[0m\u001b[0mwords_dict\u001b[0m\u001b[1;33m)\u001b[0m\u001b[1;33m\u001b[0m\u001b[1;33m\u001b[0m\u001b[0m\n\u001b[0m\u001b[0;32m      7\u001b[0m \u001b[1;33m\u001b[0m\u001b[0m\n\u001b[0;32m      8\u001b[0m \u001b[0mplt\u001b[0m\u001b[1;33m.\u001b[0m\u001b[0mfigure\u001b[0m\u001b[1;33m(\u001b[0m\u001b[0mfigsize\u001b[0m\u001b[1;33m=\u001b[0m\u001b[1;33m(\u001b[0m\u001b[1;36m20\u001b[0m\u001b[1;33m,\u001b[0m \u001b[1;36m10\u001b[0m\u001b[1;33m)\u001b[0m\u001b[1;33m)\u001b[0m\u001b[1;33m\u001b[0m\u001b[1;33m\u001b[0m\u001b[0m\n",
      "\u001b[1;31mNameError\u001b[0m: name 'WordCloud' is not defined"
     ]
    }
   ],
   "source": [
    "# wordcloud requires a dict with { word : frequency }\n",
    "words_dict = {}\n",
    "for k,v in top_words:\n",
    "    words_dict[k] = int(v)\n",
    "\n",
    "wordcloud = WordCloud(width=1000, height=500, background_color=\"white\").generate_from_frequencies(words_dict)\n",
    "\n",
    "plt.figure(figsize=(20, 10))\n",
    "plt.imshow(wordcloud, interpolation=\"bilinear\")\n",
    "plt.axis('off')\n",
    "plt.show()\n",
    "\n"
   ]
  },
  {
   "cell_type": "code",
   "execution_count": 82,
   "metadata": {},
   "outputs": [
    {
     "data": {
      "text/html": [
       "<div>\n",
       "<style scoped>\n",
       "    .dataframe tbody tr th:only-of-type {\n",
       "        vertical-align: middle;\n",
       "    }\n",
       "\n",
       "    .dataframe tbody tr th {\n",
       "        vertical-align: top;\n",
       "    }\n",
       "\n",
       "    .dataframe thead th {\n",
       "        text-align: right;\n",
       "    }\n",
       "</style>\n",
       "<table border=\"1\" class=\"dataframe\">\n",
       "  <thead>\n",
       "    <tr style=\"text-align: right;\">\n",
       "      <th></th>\n",
       "      <th>text</th>\n",
       "      <th>sentiments</th>\n",
       "    </tr>\n",
       "  </thead>\n",
       "  <tbody>\n",
       "    <tr>\n",
       "      <th>0</th>\n",
       "      <td>true apple likely overpriced latest iphones ma...</td>\n",
       "      <td>0.190000</td>\n",
       "    </tr>\n",
       "    <tr>\n",
       "      <th>1</th>\n",
       "      <td>aaronsuplizio apple yes</td>\n",
       "      <td>0.000000</td>\n",
       "    </tr>\n",
       "    <tr>\n",
       "      <th>2</th>\n",
       "      <td>mvigod apple said many time regard multiple co...</td>\n",
       "      <td>0.000000</td>\n",
       "    </tr>\n",
       "    <tr>\n",
       "      <th>3</th>\n",
       "      <td>saying apple problem challenge doe saying pers...</td>\n",
       "      <td>0.000000</td>\n",
       "    </tr>\n",
       "    <tr>\n",
       "      <th>4</th>\n",
       "      <td>daveleebbc apple nygovcuomo saw go tracked con...</td>\n",
       "      <td>0.000000</td>\n",
       "    </tr>\n",
       "    <tr>\n",
       "      <th>5</th>\n",
       "      <td>apple ha disabled group facetime http unexpect...</td>\n",
       "      <td>-0.018615</td>\n",
       "    </tr>\n",
       "    <tr>\n",
       "      <th>6</th>\n",
       "      <td>wish amp apple tweeted statement medium identi...</td>\n",
       "      <td>0.000000</td>\n",
       "    </tr>\n",
       "    <tr>\n",
       "      <th>7</th>\n",
       "      <td>word time fix amp apple http</td>\n",
       "      <td>0.000000</td>\n",
       "    </tr>\n",
       "    <tr>\n",
       "      <th>8</th>\n",
       "      <td>daveleebbc apple nygovcuomo used back wanted o...</td>\n",
       "      <td>0.000000</td>\n",
       "    </tr>\n",
       "    <tr>\n",
       "      <th>9</th>\n",
       "      <td>apple biggest welfare taker time billion tax f...</td>\n",
       "      <td>0.000000</td>\n",
       "    </tr>\n",
       "    <tr>\n",
       "      <th>10</th>\n",
       "      <td>profit apple service per time bigbiz average i...</td>\n",
       "      <td>-0.150000</td>\n",
       "    </tr>\n",
       "    <tr>\n",
       "      <th>11</th>\n",
       "      <td>hollismulwrayv apple irs gross net revenue dep...</td>\n",
       "      <td>0.000000</td>\n",
       "    </tr>\n",
       "    <tr>\n",
       "      <th>12</th>\n",
       "      <td>apple outrageous gross profit margin reported ...</td>\n",
       "      <td>-0.280000</td>\n",
       "    </tr>\n",
       "    <tr>\n",
       "      <th>13</th>\n",
       "      <td>march wa newtonprotest apple hq protest cancel...</td>\n",
       "      <td>0.533333</td>\n",
       "    </tr>\n",
       "    <tr>\n",
       "      <th>14</th>\n",
       "      <td>aallan apple least io rule regulation enforcem...</td>\n",
       "      <td>-0.033333</td>\n",
       "    </tr>\n",
       "    <tr>\n",
       "      <th>15</th>\n",
       "      <td>come apple applesupport need call someone nong...</td>\n",
       "      <td>0.233929</td>\n",
       "    </tr>\n",
       "    <tr>\n",
       "      <th>16</th>\n",
       "      <td>hey apple doe iphone like autocorrect thanos t...</td>\n",
       "      <td>0.200000</td>\n",
       "    </tr>\n",
       "    <tr>\n",
       "      <th>17</th>\n",
       "      <td>apple promoted post via apple wasted chance co...</td>\n",
       "      <td>0.000000</td>\n",
       "    </tr>\n",
       "    <tr>\n",
       "      <th>18</th>\n",
       "      <td>wonder ever read mention especially dataprivac...</td>\n",
       "      <td>0.000000</td>\n",
       "    </tr>\n",
       "    <tr>\n",
       "      <th>19</th>\n",
       "      <td>apple twitter feed right lol http</td>\n",
       "      <td>0.542857</td>\n",
       "    </tr>\n",
       "    <tr>\n",
       "      <th>20</th>\n",
       "      <td>imho iphone user apple afford open applemusic ...</td>\n",
       "      <td>0.228571</td>\n",
       "    </tr>\n",
       "    <tr>\n",
       "      <th>21</th>\n",
       "      <td>oled expensive phone apple must offer customer...</td>\n",
       "      <td>-0.212500</td>\n",
       "    </tr>\n",
       "    <tr>\n",
       "      <th>22</th>\n",
       "      <td>te reason ditch iphone http applesupport apple</td>\n",
       "      <td>0.000000</td>\n",
       "    </tr>\n",
       "    <tr>\n",
       "      <th>23</th>\n",
       "      <td>hey apple wa ridiculed friend today use sony u...</td>\n",
       "      <td>0.000000</td>\n",
       "    </tr>\n",
       "    <tr>\n",
       "      <th>24</th>\n",
       "      <td>well qualcomm made better argument apple playi...</td>\n",
       "      <td>0.500000</td>\n",
       "    </tr>\n",
       "    <tr>\n",
       "      <th>25</th>\n",
       "      <td>apple applesupport please please please allow ...</td>\n",
       "      <td>-0.216667</td>\n",
       "    </tr>\n",
       "    <tr>\n",
       "      <th>26</th>\n",
       "      <td>wondering apple watch series track bod workout...</td>\n",
       "      <td>0.000000</td>\n",
       "    </tr>\n",
       "    <tr>\n",
       "      <th>27</th>\n",
       "      <td>new giveaway jewishladyblog enter win gift car...</td>\n",
       "      <td>0.468182</td>\n",
       "    </tr>\n",
       "    <tr>\n",
       "      <th>28</th>\n",
       "      <td>new giveaway jewishladyblog enter win gift car...</td>\n",
       "      <td>0.468182</td>\n",
       "    </tr>\n",
       "    <tr>\n",
       "      <th>29</th>\n",
       "      <td>new giveaway jewishladyblog enter win gift car...</td>\n",
       "      <td>0.468182</td>\n",
       "    </tr>\n",
       "    <tr>\n",
       "      <th>...</th>\n",
       "      <td>...</td>\n",
       "      <td>...</td>\n",
       "    </tr>\n",
       "    <tr>\n",
       "      <th>9961</th>\n",
       "      <td>almost fell apple xr trade offer today remembe...</td>\n",
       "      <td>0.125000</td>\n",
       "    </tr>\n",
       "    <tr>\n",
       "      <th>9962</th>\n",
       "      <td>apple going let people leave facetime video me...</td>\n",
       "      <td>0.000000</td>\n",
       "    </tr>\n",
       "    <tr>\n",
       "      <th>9963</th>\n",
       "      <td>apple never happen sit buy</td>\n",
       "      <td>0.000000</td>\n",
       "    </tr>\n",
       "    <tr>\n",
       "      <th>9964</th>\n",
       "      <td>apple want need start saving</td>\n",
       "      <td>0.000000</td>\n",
       "    </tr>\n",
       "    <tr>\n",
       "      <th>9965</th>\n",
       "      <td>patrioticmills trickle work perfectly company ...</td>\n",
       "      <td>0.400000</td>\n",
       "    </tr>\n",
       "    <tr>\n",
       "      <th>9966</th>\n",
       "      <td>apple stop probing search history cunt</td>\n",
       "      <td>0.000000</td>\n",
       "    </tr>\n",
       "    <tr>\n",
       "      <th>9967</th>\n",
       "      <td>sad new gold macbook air pink iphone x new app...</td>\n",
       "      <td>-0.081818</td>\n",
       "    </tr>\n",
       "    <tr>\n",
       "      <th>9968</th>\n",
       "      <td>tmobile apple think offer phone provider</td>\n",
       "      <td>0.000000</td>\n",
       "    </tr>\n",
       "    <tr>\n",
       "      <th>9969</th>\n",
       "      <td>macbook pro apple international plaza tampa fl...</td>\n",
       "      <td>0.000000</td>\n",
       "    </tr>\n",
       "    <tr>\n",
       "      <th>9970</th>\n",
       "      <td>apple dismissal selfdriving car employee signa...</td>\n",
       "      <td>0.000000</td>\n",
       "    </tr>\n",
       "    <tr>\n",
       "      <th>9971</th>\n",
       "      <td>apple love commercial</td>\n",
       "      <td>0.250000</td>\n",
       "    </tr>\n",
       "    <tr>\n",
       "      <th>9972</th>\n",
       "      <td>something inherently exceptional going stand m...</td>\n",
       "      <td>0.666667</td>\n",
       "    </tr>\n",
       "    <tr>\n",
       "      <th>9973</th>\n",
       "      <td>beerwhisperer aliciasinsight apple also ha bet...</td>\n",
       "      <td>0.500000</td>\n",
       "    </tr>\n",
       "    <tr>\n",
       "      <th>9974</th>\n",
       "      <td>intifada bdsmovement ginosocialist intel micro...</td>\n",
       "      <td>-0.200000</td>\n",
       "    </tr>\n",
       "    <tr>\n",
       "      <th>9975</th>\n",
       "      <td>jnjnews apple wireless radio frequency bravo e...</td>\n",
       "      <td>0.000000</td>\n",
       "    </tr>\n",
       "    <tr>\n",
       "      <th>9976</th>\n",
       "      <td>emeraldjeana apple take device apple store rep...</td>\n",
       "      <td>0.000000</td>\n",
       "    </tr>\n",
       "    <tr>\n",
       "      <th>9977</th>\n",
       "      <td>apple applesupport implement grid line setting...</td>\n",
       "      <td>0.500000</td>\n",
       "    </tr>\n",
       "    <tr>\n",
       "      <th>9978</th>\n",
       "      <td>apple feel accomplished http</td>\n",
       "      <td>0.200000</td>\n",
       "    </tr>\n",
       "    <tr>\n",
       "      <th>9979</th>\n",
       "      <td>jnjnews apple new study asbestos talcum powder</td>\n",
       "      <td>0.136364</td>\n",
       "    </tr>\n",
       "    <tr>\n",
       "      <th>9980</th>\n",
       "      <td>apple trade iphone something work better cost ...</td>\n",
       "      <td>0.500000</td>\n",
       "    </tr>\n",
       "    <tr>\n",
       "      <th>9981</th>\n",
       "      <td>amazon zacefron adrianalima amazonhelp microso...</td>\n",
       "      <td>0.400000</td>\n",
       "    </tr>\n",
       "    <tr>\n",
       "      <th>9982</th>\n",
       "      <td>surface spotify amazonhelp microsofthelps amaz...</td>\n",
       "      <td>0.400000</td>\n",
       "    </tr>\n",
       "    <tr>\n",
       "      <th>9983</th>\n",
       "      <td>doe matter notch iphone x apple timcook really...</td>\n",
       "      <td>0.500000</td>\n",
       "    </tr>\n",
       "    <tr>\n",
       "      <th>9984</th>\n",
       "      <td>apple true thing</td>\n",
       "      <td>0.350000</td>\n",
       "    </tr>\n",
       "    <tr>\n",
       "      <th>9985</th>\n",
       "      <td>apple stop spying</td>\n",
       "      <td>0.000000</td>\n",
       "    </tr>\n",
       "    <tr>\n",
       "      <th>9986</th>\n",
       "      <td>apple nope</td>\n",
       "      <td>0.000000</td>\n",
       "    </tr>\n",
       "    <tr>\n",
       "      <th>9987</th>\n",
       "      <td>jjhannanwriting apple apple ha become scientol...</td>\n",
       "      <td>0.000000</td>\n",
       "    </tr>\n",
       "    <tr>\n",
       "      <th>9988</th>\n",
       "      <td>got say apple love everything iphone se light ...</td>\n",
       "      <td>0.333333</td>\n",
       "    </tr>\n",
       "    <tr>\n",
       "      <th>9989</th>\n",
       "      <td>courtmejias raymondchung apple honda toyota go...</td>\n",
       "      <td>0.000000</td>\n",
       "    </tr>\n",
       "    <tr>\n",
       "      <th>9990</th>\n",
       "      <td>throw googleuk amazonuk apple focus tax avoida...</td>\n",
       "      <td>0.000000</td>\n",
       "    </tr>\n",
       "  </tbody>\n",
       "</table>\n",
       "<p>9991 rows × 2 columns</p>\n",
       "</div>"
      ],
      "text/plain": [
       "                                                   text  sentiments\n",
       "0     true apple likely overpriced latest iphones ma...    0.190000\n",
       "1                               aaronsuplizio apple yes    0.000000\n",
       "2     mvigod apple said many time regard multiple co...    0.000000\n",
       "3     saying apple problem challenge doe saying pers...    0.000000\n",
       "4     daveleebbc apple nygovcuomo saw go tracked con...    0.000000\n",
       "5     apple ha disabled group facetime http unexpect...   -0.018615\n",
       "6     wish amp apple tweeted statement medium identi...    0.000000\n",
       "7                          word time fix amp apple http    0.000000\n",
       "8     daveleebbc apple nygovcuomo used back wanted o...    0.000000\n",
       "9     apple biggest welfare taker time billion tax f...    0.000000\n",
       "10    profit apple service per time bigbiz average i...   -0.150000\n",
       "11    hollismulwrayv apple irs gross net revenue dep...    0.000000\n",
       "12    apple outrageous gross profit margin reported ...   -0.280000\n",
       "13    march wa newtonprotest apple hq protest cancel...    0.533333\n",
       "14    aallan apple least io rule regulation enforcem...   -0.033333\n",
       "15    come apple applesupport need call someone nong...    0.233929\n",
       "16    hey apple doe iphone like autocorrect thanos t...    0.200000\n",
       "17    apple promoted post via apple wasted chance co...    0.000000\n",
       "18    wonder ever read mention especially dataprivac...    0.000000\n",
       "19                    apple twitter feed right lol http    0.542857\n",
       "20    imho iphone user apple afford open applemusic ...    0.228571\n",
       "21    oled expensive phone apple must offer customer...   -0.212500\n",
       "22       te reason ditch iphone http applesupport apple    0.000000\n",
       "23    hey apple wa ridiculed friend today use sony u...    0.000000\n",
       "24    well qualcomm made better argument apple playi...    0.500000\n",
       "25    apple applesupport please please please allow ...   -0.216667\n",
       "26    wondering apple watch series track bod workout...    0.000000\n",
       "27    new giveaway jewishladyblog enter win gift car...    0.468182\n",
       "28    new giveaway jewishladyblog enter win gift car...    0.468182\n",
       "29    new giveaway jewishladyblog enter win gift car...    0.468182\n",
       "...                                                 ...         ...\n",
       "9961  almost fell apple xr trade offer today remembe...    0.125000\n",
       "9962  apple going let people leave facetime video me...    0.000000\n",
       "9963                         apple never happen sit buy    0.000000\n",
       "9964                       apple want need start saving    0.000000\n",
       "9965  patrioticmills trickle work perfectly company ...    0.400000\n",
       "9966             apple stop probing search history cunt    0.000000\n",
       "9967  sad new gold macbook air pink iphone x new app...   -0.081818\n",
       "9968           tmobile apple think offer phone provider    0.000000\n",
       "9969  macbook pro apple international plaza tampa fl...    0.000000\n",
       "9970  apple dismissal selfdriving car employee signa...    0.000000\n",
       "9971                              apple love commercial    0.250000\n",
       "9972  something inherently exceptional going stand m...    0.666667\n",
       "9973  beerwhisperer aliciasinsight apple also ha bet...    0.500000\n",
       "9974  intifada bdsmovement ginosocialist intel micro...   -0.200000\n",
       "9975  jnjnews apple wireless radio frequency bravo e...    0.000000\n",
       "9976  emeraldjeana apple take device apple store rep...    0.000000\n",
       "9977  apple applesupport implement grid line setting...    0.500000\n",
       "9978                       apple feel accomplished http    0.200000\n",
       "9979     jnjnews apple new study asbestos talcum powder    0.136364\n",
       "9980  apple trade iphone something work better cost ...    0.500000\n",
       "9981  amazon zacefron adrianalima amazonhelp microso...    0.400000\n",
       "9982  surface spotify amazonhelp microsofthelps amaz...    0.400000\n",
       "9983  doe matter notch iphone x apple timcook really...    0.500000\n",
       "9984                                   apple true thing    0.350000\n",
       "9985                                  apple stop spying    0.000000\n",
       "9986                                         apple nope    0.000000\n",
       "9987  jjhannanwriting apple apple ha become scientol...    0.000000\n",
       "9988  got say apple love everything iphone se light ...    0.333333\n",
       "9989  courtmejias raymondchung apple honda toyota go...    0.000000\n",
       "9990  throw googleuk amazonuk apple focus tax avoida...    0.000000\n",
       "\n",
       "[9991 rows x 2 columns]"
      ]
     },
     "execution_count": 82,
     "metadata": {},
     "output_type": "execute_result"
    }
   ],
   "source": [
    "##### Sentiment analysis ########\n",
    "\n",
    "\n",
    "sentiments = []\n",
    "\n",
    "for tweet in tweets:\n",
    "    analysis = TextBlob(tweet)\n",
    "    sentiments.append(analysis.sentiment.polarity)\n",
    "\n",
    "\n",
    "\n",
    "tweets_df = pd.DataFrame(tweets)\n",
    "\n",
    "tweets_df['sentiments'] = sentiments\n",
    "\n",
    "tweets_df\n"
   ]
  },
  {
   "cell_type": "code",
   "execution_count": null,
   "metadata": {},
   "outputs": [],
   "source": []
  }
 ],
 "metadata": {
  "kernelspec": {
   "display_name": "Python 3",
   "language": "python",
   "name": "python3"
  },
  "language_info": {
   "codemirror_mode": {
    "name": "ipython",
    "version": 3
   },
   "file_extension": ".py",
   "mimetype": "text/x-python",
   "name": "python",
   "nbconvert_exporter": "python",
   "pygments_lexer": "ipython3",
   "version": "3.7.2"
  }
 },
 "nbformat": 4,
 "nbformat_minor": 2
}
